{
 "cells": [
  {
   "cell_type": "markdown",
   "metadata": {
    "id": "o6a8YhrVTKUk"
   },
   "source": [
    "___\n",
    "\n",
    "<p style=\"text-align: center;\"><img src=\"https://docs.google.com/uc?id=1lY0Uj5R04yMY3-ZppPWxqCr5pvBLYPnV\" class=\"img-fluid\" alt=\"CLRSWY\"></p>\n",
    "\n",
    "___"
   ]
  },
  {
   "cell_type": "markdown",
   "metadata": {
    "id": "ktTCUXM9TKUu"
   },
   "source": [
    "<h1 style=\"text-align: center;\">Deep Learning<br><br>Assignment-2 (CNN)<br><br>Image Classification with CNN<br><h1>"
   ]
  },
  {
   "cell_type": "markdown",
   "metadata": {
    "id": "Rezh4YBoTKUv"
   },
   "source": [
    "# Task and Dataset Info\n",
    "\n",
    "Welcome to second assignment of Deep learning lesson. Follow the instructions and complete the assignment.\n",
    "\n",
    "**Build an image classifier with Convolutional Neural Networks for the Fashion MNIST dataset. This data set includes 10 labels of different clothing types with 28 by 28 *grayscale* images. There is a training set of 60,000 images and 10,000 test images.**\n",
    "\n",
    "    Label\tDescription\n",
    "    0\t    T-shirt/top\n",
    "    1\t    Trouser\n",
    "    2\t    Pullover\n",
    "    3\t    Dress\n",
    "    4\t    Coat\n",
    "    5\t    Sandal\n",
    "    6\t    Shirt\n",
    "    7\t    Sneaker\n",
    "    8\t    Bag\n",
    "    9\t    Ankle boot"
   ]
  },
  {
   "cell_type": "markdown",
   "metadata": {
    "id": "6EGqW7-UTKUx"
   },
   "source": [
    "# Import Libraries"
   ]
  },
  {
   "cell_type": "code",
   "execution_count": 89,
   "metadata": {
    "id": "Qgxom_0jTKUy"
   },
   "outputs": [],
   "source": [
    "import numpy as np\n",
    "import pandas as pd\n",
    "import matplotlib.pyplot as plt\n",
    "import seaborn as sns\n",
    "import tensorflow as tf\n",
    "\n",
    "plt.rcParams[\"figure.figsize\"] = (10, 6)\n",
    "\n",
    "sns.set_style(\"whitegrid\")\n",
    "pd.set_option(\"display.float_format\", lambda x: \"%.3f\" % x)\n",
    "\n",
    "# Set it None to display all rows in the dataframe\n",
    "# pd.set_option('display.max_rows', None)\n",
    "\n",
    "# Set it to None to display all columns in the dataframe\n",
    "pd.set_option(\"display.max_columns\", None)\n",
    "\n",
    "np.set_printoptions(suppress=True)"
   ]
  },
  {
   "cell_type": "markdown",
   "metadata": {
    "id": "ZFUBV7r0TKUz"
   },
   "source": [
    "# Recognizing and Understanding Data\n",
    "\n",
    "**TASK 1: Run the code below to download the dataset using Keras.**"
   ]
  },
  {
   "cell_type": "code",
   "execution_count": 90,
   "metadata": {
    "id": "sDjmqY-eTKU1"
   },
   "outputs": [],
   "source": [
    "from sklearn.model_selection import train_test_split\n",
    "from tensorflow.keras.datasets import fashion_mnist\n",
    "\n",
    "(x_train, y_train), (x_test, y_test) = fashion_mnist.load_data()\n",
    "\n",
    "x_train, x_val, y_train, y_val = train_test_split(x_train,\n",
    "                                                  y_train,\n",
    "                                                  stratify=y_train,\n",
    "                                                  test_size=0.1,\n",
    "                                                  random_state=42)"
   ]
  },
  {
   "cell_type": "code",
   "execution_count": 91,
   "metadata": {
    "colab": {
     "base_uri": "https://localhost:8080/"
    },
    "id": "JUpVER58TKU3",
    "outputId": "1b515aec-3358-41a9-ebfa-3504cb975cf6"
   },
   "outputs": [
    {
     "name": "stdout",
     "output_type": "stream",
     "text": [
      "There are 54000 images in the training dataset\n",
      "There are 10000 images in the test dataset\n",
      "There are 6000 images in the test dataset\n"
     ]
    }
   ],
   "source": [
    "print(f\"There are {len(x_train)} images in the training dataset\")\n",
    "print(f\"There are {len(x_test)} images in the test dataset\")\n",
    "print(f\"There are {len(x_val)} images in the test dataset\")"
   ]
  },
  {
   "cell_type": "code",
   "execution_count": 75,
   "metadata": {
    "colab": {
     "base_uri": "https://localhost:8080/"
    },
    "id": "VWie6uQqTKU4",
    "outputId": "18b73d02-0a38-472d-a449-ec929d11f302"
   },
   "outputs": [
    {
     "data": {
      "text/plain": [
       "(28, 28)"
      ]
     },
     "execution_count": 75,
     "metadata": {},
     "output_type": "execute_result"
    }
   ],
   "source": [
    "x_train[67].shape"
   ]
  },
  {
   "cell_type": "markdown",
   "metadata": {
    "id": "edh5XMgUTKU5"
   },
   "source": [
    "**TASK 2: Use matplotlib to view an image from the data set. It can be any image from the data set.**"
   ]
  },
  {
   "cell_type": "code",
   "execution_count": 76,
   "metadata": {
    "id": "vQVfCcPdTKU6"
   },
   "outputs": [],
   "source": [
    "classes=[\"T-shirt/top\", \"Trouser\",\"Pullover\",\"Dress\",\"Coat\",\"Sandal\",\"Shirt\",\"Sneaker\",\"Bag\",\"Ankle boot\"]"
   ]
  },
  {
   "cell_type": "code",
   "execution_count": 77,
   "metadata": {
    "colab": {
     "base_uri": "https://localhost:8080/",
     "height": 539
    },
    "id": "sOvPf9xOTKU6",
    "outputId": "2ba57899-8152-4333-8ebe-94c15b656d39"
   },
   "outputs": [
    {
     "data": {
      "text/plain": [
       "<matplotlib.image.AxesImage at 0x7f4bfeb90250>"
      ]
     },
     "execution_count": 77,
     "metadata": {},
     "output_type": "execute_result"
    },
    {
     "data": {
      "image/png": "[encoded data removed]",
      "text/plain": [
       "<Figure size 1000x600 with 1 Axes>"
      ]
     },
     "metadata": {},
     "output_type": "display_data"
    }
   ],
   "source": [
    "plt.imshow(x_train[67])"
   ]
  },
  {
   "cell_type": "code",
   "execution_count": 78,
   "metadata": {
    "colab": {
     "base_uri": "https://localhost:8080/",
     "height": 429
    },
    "id": "CRSqrAl_TKU6",
    "outputId": "b0926734-c4b7-4506-f773-3c9c67032287"
   },
   "outputs": [
    {
     "data": {
      "image/png": "[encoded data removed]",
      "text/plain": [
       "<Figure size 1200x500 with 10 Axes>"
      ]
     },
     "metadata": {},
     "output_type": "display_data"
    }
   ],
   "source": [
    "f, axes = plt.subplots(2, 5, figsize=(12, 5))\n",
    "\n",
    "for ax in axes.ravel():\n",
    "    idx = np.random.randint(0, len(x_train))\n",
    "    ax.axis(\"off\")\n",
    "    ax.set_title(y_train[idx])\n",
    "    ax.imshow(x_train[idx])\n",
    "plt.show()"
   ]
  },
  {
   "cell_type": "code",
   "execution_count": null,
   "metadata": {
    "id": "lHkmy2V2TKU7"
   },
   "outputs": [],
   "source": []
  },
  {
   "cell_type": "markdown",
   "metadata": {
    "id": "Cm_gUEqZTKU7"
   },
   "source": [
    "# Data Preprocessing\n",
    "\n",
    "**TASK 3: Normalize the X train and X test data by dividing by the max value of the image arrays.**"
   ]
  },
  {
   "cell_type": "code",
   "execution_count": 92,
   "metadata": {
    "colab": {
     "base_uri": "https://localhost:8080/"
    },
    "id": "fO3WNl9FTKU8",
    "outputId": "6433f50b-ede7-45cd-c135-3ed462923599"
   },
   "outputs": [
    {
     "data": {
      "text/plain": [
       "0"
      ]
     },
     "execution_count": 92,
     "metadata": {},
     "output_type": "execute_result"
    }
   ],
   "source": [
    "x_train[342].min()"
   ]
  },
  {
   "cell_type": "code",
   "execution_count": 93,
   "metadata": {
    "colab": {
     "base_uri": "https://localhost:8080/"
    },
    "id": "TwwvO1FdTKU8",
    "outputId": "969715f7-39d1-4558-da33-882c4ab740a7"
   },
   "outputs": [
    {
     "data": {
      "text/plain": [
       "255"
      ]
     },
     "execution_count": 93,
     "metadata": {},
     "output_type": "execute_result"
    }
   ],
   "source": [
    "x_train[9].max()"
   ]
  },
  {
   "cell_type": "code",
   "execution_count": 94,
   "metadata": {
    "id": "myCvL-cnTKU8"
   },
   "outputs": [],
   "source": [
    "# Normalize image pixels\n",
    "x_train = x_train.astype(\"float32\")\n",
    "x_test = x_test.astype(\"float32\")\n",
    "x_val = x_val.astype(\"float32\")\n",
    "x_train /= 255\n",
    "x_test /= 255\n",
    "x_val /= 255"
   ]
  },
  {
   "cell_type": "code",
   "execution_count": 95,
   "metadata": {
    "colab": {
     "base_uri": "https://localhost:8080/"
    },
    "id": "tPizjDlr0sgy",
    "outputId": "c1e76939-d1b1-4497-8ff5-700e42ba8954"
   },
   "outputs": [
    {
     "data": {
      "text/plain": [
       "0.0"
      ]
     },
     "execution_count": 95,
     "metadata": {},
     "output_type": "execute_result"
    }
   ],
   "source": [
    "x_train[342].min()"
   ]
  },
  {
   "cell_type": "code",
   "execution_count": 96,
   "metadata": {
    "colab": {
     "base_uri": "https://localhost:8080/"
    },
    "id": "VtOWNE6U0src",
    "outputId": "ddaaff99-9475-4492-ca1a-e610a6c0752b"
   },
   "outputs": [
    {
     "data": {
      "text/plain": [
       "1.0"
      ]
     },
     "execution_count": 96,
     "metadata": {},
     "output_type": "execute_result"
    }
   ],
   "source": [
    "x_train[9].max()"
   ]
  },
  {
   "cell_type": "markdown",
   "metadata": {
    "id": "nbbE_DwsTKU9"
   },
   "source": [
    "**Task 4: Reshape the X arrays to include a 4 dimension of the single channel. Similar to what we did for the numbers MNIST data set.**"
   ]
  },
  {
   "cell_type": "code",
   "execution_count": 97,
   "metadata": {
    "colab": {
     "base_uri": "https://localhost:8080/"
    },
    "id": "sBEquNokTKU-",
    "outputId": "78b4c25b-4ec6-483a-82c4-b64ee9ae6a5d"
   },
   "outputs": [
    {
     "data": {
      "text/plain": [
       "((54000, 28, 28), (10000, 28, 28), (6000, 28, 28))"
      ]
     },
     "execution_count": 97,
     "metadata": {},
     "output_type": "execute_result"
    }
   ],
   "source": [
    "x_train.shape, x_test.shape, x_val.shape"
   ]
  },
  {
   "cell_type": "code",
   "execution_count": 98,
   "metadata": {
    "id": "Sg8eHdh74OIA"
   },
   "outputs": [],
   "source": [
    "x_train = np.expand_dims(x_train, 3)\n",
    "x_test = np.expand_dims(x_test, 3)\n",
    "x_val = np.expand_dims(x_val, 3)"
   ]
  },
  {
   "cell_type": "code",
   "execution_count": 99,
   "metadata": {
    "colab": {
     "base_uri": "https://localhost:8080/"
    },
    "id": "VF51b5H1TKU-",
    "outputId": "4add08dc-1830-4914-cffa-eeb0de9f08b5"
   },
   "outputs": [
    {
     "data": {
      "text/plain": [
       "((54000, 28, 28, 1), (10000, 28, 28, 1), (6000, 28, 28, 1))"
      ]
     },
     "execution_count": 99,
     "metadata": {},
     "output_type": "execute_result"
    }
   ],
   "source": [
    "x_train.shape, x_test.shape,x_val.shape"
   ]
  },
  {
   "cell_type": "markdown",
   "metadata": {
    "id": "q889glIUTKU-"
   },
   "source": [
    "**TASK 5: Convert the y_train and y_test values to be one-hot encoded for categorical analysis by Keras.**"
   ]
  },
  {
   "cell_type": "code",
   "execution_count": 100,
   "metadata": {
    "id": "5KiO9fIYTKU-"
   },
   "outputs": [],
   "source": [
    "from tensorflow.keras.utils import to_categorical"
   ]
  },
  {
   "cell_type": "code",
   "execution_count": 101,
   "metadata": {
    "id": "Rc1MKKa1TKU-"
   },
   "outputs": [],
   "source": [
    "Y_train = to_categorical(y_train, 10)\n",
    "Y_test = to_categorical(y_test, 10)\n",
    "Y_val = to_categorical(y_val, 10)"
   ]
  },
  {
   "cell_type": "code",
   "execution_count": 102,
   "metadata": {
    "colab": {
     "base_uri": "https://localhost:8080/"
    },
    "id": "FdwvHjOgTKU-",
    "outputId": "b7777e01-4986-41ff-e21c-e86dc4ef0572"
   },
   "outputs": [
    {
     "data": {
      "text/plain": [
       "(54000, 10)"
      ]
     },
     "execution_count": 102,
     "metadata": {},
     "output_type": "execute_result"
    }
   ],
   "source": [
    "Y_train.shape"
   ]
  },
  {
   "cell_type": "code",
   "execution_count": 103,
   "metadata": {
    "colab": {
     "base_uri": "https://localhost:8080/"
    },
    "id": "JS6BHXYtTKU_",
    "outputId": "8425acb0-7831-4002-c50f-edd695382daf"
   },
   "outputs": [
    {
     "data": {
      "text/plain": [
       "8"
      ]
     },
     "execution_count": 103,
     "metadata": {},
     "output_type": "execute_result"
    }
   ],
   "source": [
    "y_train[9]"
   ]
  },
  {
   "cell_type": "code",
   "execution_count": 104,
   "metadata": {
    "colab": {
     "base_uri": "https://localhost:8080/"
    },
    "id": "IrLH4lyX17Bo",
    "outputId": "fea593af-a754-46d9-fd02-343913437940"
   },
   "outputs": [
    {
     "data": {
      "text/plain": [
       "array([0., 0., 0., 0., 0., 0., 0., 0., 1., 0.], dtype=float32)"
      ]
     },
     "execution_count": 104,
     "metadata": {},
     "output_type": "execute_result"
    }
   ],
   "source": [
    "Y_train[9]"
   ]
  },
  {
   "cell_type": "code",
   "execution_count": 105,
   "metadata": {
    "colab": {
     "base_uri": "https://localhost:8080/"
    },
    "id": "xZdINDO32CT4",
    "outputId": "e8816d14-547d-4267-8939-0258a6e7c435"
   },
   "outputs": [
    {
     "data": {
      "text/plain": [
       "4"
      ]
     },
     "execution_count": 105,
     "metadata": {},
     "output_type": "execute_result"
    }
   ],
   "source": [
    "y_val[9]"
   ]
  },
  {
   "cell_type": "code",
   "execution_count": 106,
   "metadata": {
    "colab": {
     "base_uri": "https://localhost:8080/"
    },
    "id": "bknZv-HG3MdZ",
    "outputId": "8bec55d4-c92e-4e2b-a8aa-09075e559398"
   },
   "outputs": [
    {
     "data": {
      "text/plain": [
       "array([0., 0., 0., 0., 1., 0., 0., 0., 0., 0.], dtype=float32)"
      ]
     },
     "execution_count": 106,
     "metadata": {},
     "output_type": "execute_result"
    }
   ],
   "source": [
    "Y_val[9]"
   ]
  },
  {
   "cell_type": "code",
   "execution_count": 107,
   "metadata": {
    "colab": {
     "base_uri": "https://localhost:8080/"
    },
    "id": "uEMZH0UZ3P0U",
    "outputId": "f7998e02-d435-4fc0-d3a1-34872d00a272"
   },
   "outputs": [
    {
     "data": {
      "text/plain": [
       "7"
      ]
     },
     "execution_count": 107,
     "metadata": {},
     "output_type": "execute_result"
    }
   ],
   "source": [
    "y_test[9]"
   ]
  },
  {
   "cell_type": "code",
   "execution_count": 108,
   "metadata": {
    "colab": {
     "base_uri": "https://localhost:8080/"
    },
    "id": "qarhzaeM3P8E",
    "outputId": "97b32202-050c-46bf-c880-2ee8b22b4393"
   },
   "outputs": [
    {
     "data": {
      "text/plain": [
       "array([0., 0., 0., 0., 0., 0., 0., 1., 0., 0.], dtype=float32)"
      ]
     },
     "execution_count": 108,
     "metadata": {},
     "output_type": "execute_result"
    }
   ],
   "source": [
    "Y_test[9]"
   ]
  },
  {
   "cell_type": "markdown",
   "metadata": {
    "id": "hHtHlMZcTKU_"
   },
   "source": [
    "# Modeling"
   ]
  },
  {
   "cell_type": "markdown",
   "metadata": {
    "id": "LIqM35kCTKU_"
   },
   "source": [
    "## Create the model\n",
    "\n",
    "**TASK 5: Use Keras to create a model consisting of at least the following layers (but feel free to experiment):**\n",
    "\n",
    "* 2D Convolutional Layer, filters=28 and kernel_size=(3,3)\n",
    "* Pooling Layer where pool_size = (2,2) strides=(1,1)\n",
    "\n",
    "* Flatten Layer\n",
    "* Dense Layer (128 Neurons, but feel free to play around with this value), RELU activation\n",
    "\n",
    "* Final Dense Layer of 10 Neurons with a softmax activation\n",
    "\n",
    "**Then compile the model with these parameters: loss='categorical_crossentropy', optimizer='rmsprop', metrics=['accuracy']**"
   ]
  },
  {
   "cell_type": "code",
   "execution_count": 109,
   "metadata": {
    "id": "FLzrq337TKU_"
   },
   "outputs": [],
   "source": [
    "from tensorflow.keras.models import Sequential\n",
    "from tensorflow.keras.layers import Dense, Conv2D, MaxPool2D, Flatten"
   ]
  },
  {
   "cell_type": "code",
   "execution_count": 160,
   "metadata": {
    "colab": {
     "base_uri": "https://localhost:8080/"
    },
    "id": "QEawV5KI5JBo",
    "outputId": "bdee1595-dafb-4e60-8acc-078eddb8cf18"
   },
   "outputs": [
    {
     "name": "stderr",
     "output_type": "stream",
     "text": [
      "WARNING:absl:`lr` is deprecated in Keras optimizer, please use `learning_rate` or use the legacy optimizer, e.g.,tf.keras.optimizers.legacy.RMSprop.\n"
     ]
    }
   ],
   "source": [
    "from tensorflow.keras.optimizers import RMSprop\n",
    "from tensorflow.keras.layers import Dropout\n",
    "model = Sequential()\n",
    "\n",
    "model.add(\n",
    "    Conv2D(filters=28, kernel_size=(3, 3), input_shape=(28, 28, 1), activation=\"relu\")\n",
    ")\n",
    "\n",
    "model.add(MaxPool2D(pool_size=(2, 2))) #  default strides=(1,1)\n",
    "\n",
    "model.add(Flatten())\n",
    "\n",
    "model.add(Dense(128, activation=\"relu\"))\n",
    "model.add(Dropout(0.5))\n",
    "\n",
    "\n",
    "model.add(Dense(10, activation=\"softmax\"))\n",
    "\n",
    "opt = RMSprop(lr=0.001)\n",
    "model.compile(loss=\"categorical_crossentropy\", optimizer=opt, metrics=[ \"Accuracy\"])"
   ]
  },
  {
   "cell_type": "code",
   "execution_count": 161,
   "metadata": {
    "colab": {
     "base_uri": "https://localhost:8080/"
    },
    "id": "Jv6CziKb6tYq",
    "outputId": "59fe1a51-7376-479e-8f78-88eca14b0a41"
   },
   "outputs": [
    {
     "name": "stdout",
     "output_type": "stream",
     "text": [
      "Model: \"sequential_2\"\n",
      "_________________________________________________________________\n",
      " Layer (type)                Output Shape              Param #   \n",
      "=================================================================\n",
      " conv2d_2 (Conv2D)           (None, 26, 26, 28)        280       \n",
      "                                                                 \n",
      " max_pooling2d_2 (MaxPoolin  (None, 13, 13, 28)        0         \n",
      " g2D)                                                            \n",
      "                                                                 \n",
      " flatten_2 (Flatten)         (None, 4732)              0         \n",
      "                                                                 \n",
      " dense_4 (Dense)             (None, 128)               605824    \n",
      "                                                                 \n",
      " dropout (Dropout)           (None, 128)               0         \n",
      "                                                                 \n",
      " dense_5 (Dense)             (None, 10)                1290      \n",
      "                                                                 \n",
      "=================================================================\n",
      "Total params: 607394 (2.32 MB)\n",
      "Trainable params: 607394 (2.32 MB)\n",
      "Non-trainable params: 0 (0.00 Byte)\n",
      "_________________________________________________________________\n"
     ]
    }
   ],
   "source": [
    "model.summary()"
   ]
  },
  {
   "cell_type": "markdown",
   "metadata": {
    "id": "F8Mg9vpaTKU_"
   },
   "source": [
    "##  Model Training\n",
    "\n",
    "**TASK 6: Train/Fit the model to the x_train set by using EarlyStop. Amount of epochs is up to you.**"
   ]
  },
  {
   "cell_type": "code",
   "execution_count": 162,
   "metadata": {
    "id": "_gUiH1t0TKVA"
   },
   "outputs": [],
   "source": [
    "from tensorflow.keras.callbacks import EarlyStopping\n"
   ]
  },
  {
   "cell_type": "code",
   "execution_count": 163,
   "metadata": {
    "id": "eNWMoTXsTKVA"
   },
   "outputs": [],
   "source": [
    "early_stop = EarlyStopping(\n",
    "    monitor=\"val_accuracy\", mode=\"max\", patience=4, restore_best_weights=True\n",
    ")"
   ]
  },
  {
   "cell_type": "code",
   "execution_count": 164,
   "metadata": {
    "colab": {
     "base_uri": "https://localhost:8080/"
    },
    "id": "o0rHO9sATKVB",
    "outputId": "ed220ea0-5ff4-4cbe-93e1-4f5d8ecf1181"
   },
   "outputs": [
    {
     "metadata": {
      "tags": null
     },
     "name": "stdout",
     "output_type": "stream",
     "text": [
      "Epoch 1/60\n",
      "1688/1688 [==============================] - ETA: 0s - loss: 0.5183 - Accuracy: 0.8212"
     ]
    },
    {
     "metadata": {
      "tags": null
     },
     "name": "stderr",
     "output_type": "stream",
     "text": [
      "WARNING:tensorflow:Early stopping conditioned on metric `val_accuracy` which is not available. Available metrics are: loss,Accuracy,val_loss,val_Accuracy\n"
     ]
    },
    {
     "metadata": {
      "tags": null
     },
     "name": "stdout",
     "output_type": "stream",
     "text": [
      "1688/1688 [==============================] - 34s 20ms/step - loss: 0.5183 - Accuracy: 0.8212 - val_loss: 0.3321 - val_Accuracy: 0.8812\n",
      "Epoch 2/60\n",
      "1686/1688 [============================>.] - ETA: 0s - loss: 0.3622 - Accuracy: 0.8734"
     ]
    },
    {
     "metadata": {
      "tags": null
     },
     "name": "stderr",
     "output_type": "stream",
     "text": [
      "WARNING:tensorflow:Early stopping conditioned on metric `val_accuracy` which is not available. Available metrics are: loss,Accuracy,val_loss,val_Accuracy\n"
     ]
    },
    {
     "metadata": {
      "tags": null
     },
     "name": "stdout",
     "output_type": "stream",
     "text": [
      "1688/1688 [==============================] - 34s 20ms/step - loss: 0.3621 - Accuracy: 0.8734 - val_loss: 0.3029 - val_Accuracy: 0.8885\n",
      "Epoch 3/60\n",
      "1687/1688 [============================>.] - ETA: 0s - loss: 0.3312 - Accuracy: 0.8836"
     ]
    },
    {
     "metadata": {
      "tags": null
     },
     "name": "stderr",
     "output_type": "stream",
     "text": [
      "WARNING:tensorflow:Early stopping conditioned on metric `val_accuracy` which is not available. Available metrics are: loss,Accuracy,val_loss,val_Accuracy\n"
     ]
    },
    {
     "metadata": {
      "tags": null
     },
     "name": "stdout",
     "output_type": "stream",
     "text": [
      "1688/1688 [==============================] - 34s 20ms/step - loss: 0.3311 - Accuracy: 0.8836 - val_loss: 0.2745 - val_Accuracy: 0.9020\n",
      "Epoch 4/60\n",
      "1686/1688 [============================>.] - ETA: 0s - loss: 0.3146 - Accuracy: 0.8894"
     ]
    },
    {
     "metadata": {
      "tags": null
     },
     "name": "stderr",
     "output_type": "stream",
     "text": [
      "WARNING:tensorflow:Early stopping conditioned on metric `val_accuracy` which is not available. Available metrics are: loss,Accuracy,val_loss,val_Accuracy\n"
     ]
    },
    {
     "metadata": {
      "tags": null
     },
     "name": "stdout",
     "output_type": "stream",
     "text": [
      "1688/1688 [==============================] - 33s 19ms/step - loss: 0.3146 - Accuracy: 0.8894 - val_loss: 0.2722 - val_Accuracy: 0.9012\n",
      "Epoch 5/60\n",
      "1686/1688 [============================>.] - ETA: 0s - loss: 0.3033 - Accuracy: 0.8953"
     ]
    },
    {
     "metadata": {
      "tags": null
     },
     "name": "stderr",
     "output_type": "stream",
     "text": [
      "WARNING:tensorflow:Early stopping conditioned on metric `val_accuracy` which is not available. Available metrics are: loss,Accuracy,val_loss,val_Accuracy\n"
     ]
    },
    {
     "metadata": {
      "tags": null
     },
     "name": "stdout",
     "output_type": "stream",
     "text": [
      "1688/1688 [==============================] - 34s 20ms/step - loss: 0.3033 - Accuracy: 0.8953 - val_loss: 0.3213 - val_Accuracy: 0.8910\n",
      "Epoch 6/60\n",
      "1685/1688 [============================>.] - ETA: 0s - loss: 0.3013 - Accuracy: 0.8971"
     ]
    },
    {
     "metadata": {
      "tags": null
     },
     "name": "stderr",
     "output_type": "stream",
     "text": [
      "WARNING:tensorflow:Early stopping conditioned on metric `val_accuracy` which is not available. Available metrics are: loss,Accuracy,val_loss,val_Accuracy\n"
     ]
    },
    {
     "metadata": {
      "tags": null
     },
     "name": "stdout",
     "output_type": "stream",
     "text": [
      "1688/1688 [==============================] - 32s 19ms/step - loss: 0.3014 - Accuracy: 0.8971 - val_loss: 0.2650 - val_Accuracy: 0.9050\n",
      "Epoch 7/60\n",
      "1686/1688 [============================>.] - ETA: 0s - loss: 0.2921 - Accuracy: 0.9005"
     ]
    },
    {
     "metadata": {
      "tags": null
     },
     "name": "stderr",
     "output_type": "stream",
     "text": [
      "WARNING:tensorflow:Early stopping conditioned on metric `val_accuracy` which is not available. Available metrics are: loss,Accuracy,val_loss,val_Accuracy\n"
     ]
    },
    {
     "metadata": {
      "tags": null
     },
     "name": "stdout",
     "output_type": "stream",
     "text": [
      "1688/1688 [==============================] - 33s 20ms/step - loss: 0.2920 - Accuracy: 0.9005 - val_loss: 0.2605 - val_Accuracy: 0.9068\n",
      "Epoch 8/60\n",
      "1685/1688 [============================>.] - ETA: 0s - loss: 0.2876 - Accuracy: 0.9022"
     ]
    },
    {
     "metadata": {
      "tags": null
     },
     "name": "stderr",
     "output_type": "stream",
     "text": [
      "WARNING:tensorflow:Early stopping conditioned on metric `val_accuracy` which is not available. Available metrics are: loss,Accuracy,val_loss,val_Accuracy\n"
     ]
    },
    {
     "metadata": {
      "tags": null
     },
     "name": "stdout",
     "output_type": "stream",
     "text": [
      "1688/1688 [==============================] - 32s 19ms/step - loss: 0.2880 - Accuracy: 0.9021 - val_loss: 0.2677 - val_Accuracy: 0.9090\n",
      "Epoch 9/60\n",
      "1686/1688 [============================>.] - ETA: 0s - loss: 0.2854 - Accuracy: 0.9019"
     ]
    },
    {
     "metadata": {
      "tags": null
     },
     "name": "stderr",
     "output_type": "stream",
     "text": [
      "WARNING:tensorflow:Early stopping conditioned on metric `val_accuracy` which is not available. Available metrics are: loss,Accuracy,val_loss,val_Accuracy\n"
     ]
    },
    {
     "metadata": {
      "tags": null
     },
     "name": "stdout",
     "output_type": "stream",
     "text": [
      "1688/1688 [==============================] - 33s 20ms/step - loss: 0.2855 - Accuracy: 0.9019 - val_loss: 0.2566 - val_Accuracy: 0.9103\n",
      "Epoch 10/60\n",
      "1685/1688 [============================>.] - ETA: 0s - loss: 0.2826 - Accuracy: 0.9046"
     ]
    },
    {
     "metadata": {
      "tags": null
     },
     "name": "stderr",
     "output_type": "stream",
     "text": [
      "WARNING:tensorflow:Early stopping conditioned on metric `val_accuracy` which is not available. Available metrics are: loss,Accuracy,val_loss,val_Accuracy\n"
     ]
    },
    {
     "metadata": {
      "tags": null
     },
     "name": "stdout",
     "output_type": "stream",
     "text": [
      "1688/1688 [==============================] - 32s 19ms/step - loss: 0.2825 - Accuracy: 0.9047 - val_loss: 0.2490 - val_Accuracy: 0.9143\n",
      "Epoch 11/60\n",
      "1687/1688 [============================>.] - ETA: 0s - loss: 0.2811 - Accuracy: 0.9049"
     ]
    },
    {
     "metadata": {
      "tags": null
     },
     "name": "stderr",
     "output_type": "stream",
     "text": [
      "WARNING:tensorflow:Early stopping conditioned on metric `val_accuracy` which is not available. Available metrics are: loss,Accuracy,val_loss,val_Accuracy\n"
     ]
    },
    {
     "metadata": {
      "tags": null
     },
     "name": "stdout",
     "output_type": "stream",
     "text": [
      "1688/1688 [==============================] - 33s 20ms/step - loss: 0.2811 - Accuracy: 0.9049 - val_loss: 0.2585 - val_Accuracy: 0.9142\n",
      "Epoch 12/60\n",
      "1686/1688 [============================>.] - ETA: 0s - loss: 0.2752 - Accuracy: 0.9064"
     ]
    },
    {
     "metadata": {
      "tags": null
     },
     "name": "stderr",
     "output_type": "stream",
     "text": [
      "WARNING:tensorflow:Early stopping conditioned on metric `val_accuracy` which is not available. Available metrics are: loss,Accuracy,val_loss,val_Accuracy\n"
     ]
    },
    {
     "metadata": {
      "tags": null
     },
     "name": "stdout",
     "output_type": "stream",
     "text": [
      "1688/1688 [==============================] - 32s 19ms/step - loss: 0.2751 - Accuracy: 0.9064 - val_loss: 0.2790 - val_Accuracy: 0.9055\n",
      "Epoch 13/60\n",
      "1687/1688 [============================>.] - ETA: 0s - loss: 0.2768 - Accuracy: 0.9055"
     ]
    },
    {
     "metadata": {
      "tags": null
     },
     "name": "stderr",
     "output_type": "stream",
     "text": [
      "WARNING:tensorflow:Early stopping conditioned on metric `val_accuracy` which is not available. Available metrics are: loss,Accuracy,val_loss,val_Accuracy\n"
     ]
    },
    {
     "metadata": {
      "tags": null
     },
     "name": "stdout",
     "output_type": "stream",
     "text": [
      "1688/1688 [==============================] - 34s 20ms/step - loss: 0.2768 - Accuracy: 0.9055 - val_loss: 0.2634 - val_Accuracy: 0.9093\n",
      "Epoch 14/60\n",
      "1685/1688 [============================>.] - ETA: 0s - loss: 0.2733 - Accuracy: 0.9070"
     ]
    },
    {
     "metadata": {
      "tags": null
     },
     "name": "stderr",
     "output_type": "stream",
     "text": [
      "WARNING:tensorflow:Early stopping conditioned on metric `val_accuracy` which is not available. Available metrics are: loss,Accuracy,val_loss,val_Accuracy\n"
     ]
    },
    {
     "metadata": {
      "tags": null
     },
     "name": "stdout",
     "output_type": "stream",
     "text": [
      "1688/1688 [==============================] - 32s 19ms/step - loss: 0.2734 - Accuracy: 0.9069 - val_loss: 0.2699 - val_Accuracy: 0.9093\n",
      "Epoch 15/60\n",
      "1687/1688 [============================>.] - ETA: 0s - loss: 0.2718 - Accuracy: 0.9083"
     ]
    },
    {
     "metadata": {
      "tags": null
     },
     "name": "stderr",
     "output_type": "stream",
     "text": [
      "WARNING:tensorflow:Early stopping conditioned on metric `val_accuracy` which is not available. Available metrics are: loss,Accuracy,val_loss,val_Accuracy\n"
     ]
    },
    {
     "metadata": {
      "tags": null
     },
     "name": "stdout",
     "output_type": "stream",
     "text": [
      "1688/1688 [==============================] - 33s 20ms/step - loss: 0.2717 - Accuracy: 0.9083 - val_loss: 0.2597 - val_Accuracy: 0.9088\n",
      "Epoch 16/60\n",
      "1686/1688 [============================>.] - ETA: 0s - loss: 0.2702 - Accuracy: 0.9087"
     ]
    },
    {
     "metadata": {
      "tags": null
     },
     "name": "stderr",
     "output_type": "stream",
     "text": [
      "WARNING:tensorflow:Early stopping conditioned on metric `val_accuracy` which is not available. Available metrics are: loss,Accuracy,val_loss,val_Accuracy\n"
     ]
    },
    {
     "metadata": {
      "tags": null
     },
     "name": "stdout",
     "output_type": "stream",
     "text": [
      "1688/1688 [==============================] - 32s 19ms/step - loss: 0.2702 - Accuracy: 0.9087 - val_loss: 0.2769 - val_Accuracy: 0.9140\n",
      "Epoch 17/60\n",
      "1685/1688 [============================>.] - ETA: 0s - loss: 0.2658 - Accuracy: 0.9092"
     ]
    },
    {
     "metadata": {
      "tags": null
     },
     "name": "stderr",
     "output_type": "stream",
     "text": [
      "WARNING:tensorflow:Early stopping conditioned on metric `val_accuracy` which is not available. Available metrics are: loss,Accuracy,val_loss,val_Accuracy\n"
     ]
    },
    {
     "metadata": {
      "tags": null
     },
     "name": "stdout",
     "output_type": "stream",
     "text": [
      "1688/1688 [==============================] - 33s 20ms/step - loss: 0.2658 - Accuracy: 0.9092 - val_loss: 0.2718 - val_Accuracy: 0.9163\n",
      "Epoch 18/60\n",
      "1686/1688 [============================>.] - ETA: 0s - loss: 0.2653 - Accuracy: 0.9107"
     ]
    },
    {
     "metadata": {
      "tags": null
     },
     "name": "stderr",
     "output_type": "stream",
     "text": [
      "WARNING:tensorflow:Early stopping conditioned on metric `val_accuracy` which is not available. Available metrics are: loss,Accuracy,val_loss,val_Accuracy\n"
     ]
    },
    {
     "metadata": {
      "tags": null
     },
     "name": "stdout",
     "output_type": "stream",
     "text": [
      "1688/1688 [==============================] - 32s 19ms/step - loss: 0.2655 - Accuracy: 0.9106 - val_loss: 0.2701 - val_Accuracy: 0.9068\n",
      "Epoch 19/60\n",
      "1686/1688 [============================>.] - ETA: 0s - loss: 0.2668 - Accuracy: 0.9092"
     ]
    },
    {
     "metadata": {
      "tags": null
     },
     "name": "stderr",
     "output_type": "stream",
     "text": [
      "WARNING:tensorflow:Early stopping conditioned on metric `val_accuracy` which is not available. Available metrics are: loss,Accuracy,val_loss,val_Accuracy\n"
     ]
    },
    {
     "metadata": {
      "tags": null
     },
     "name": "stdout",
     "output_type": "stream",
     "text": [
      "1688/1688 [==============================] - 39s 23ms/step - loss: 0.2671 - Accuracy: 0.9091 - val_loss: 0.2749 - val_Accuracy: 0.9072\n",
      "Epoch 20/60\n",
      "1688/1688 [==============================] - ETA: 0s - loss: 0.2679 - Accuracy: 0.9099"
     ]
    },
    {
     "metadata": {
      "tags": null
     },
     "name": "stderr",
     "output_type": "stream",
     "text": [
      "WARNING:tensorflow:Early stopping conditioned on metric `val_accuracy` which is not available. Available metrics are: loss,Accuracy,val_loss,val_Accuracy\n"
     ]
    },
    {
     "metadata": {
      "tags": null
     },
     "name": "stdout",
     "output_type": "stream",
     "text": [
      "1688/1688 [==============================] - 39s 23ms/step - loss: 0.2679 - Accuracy: 0.9099 - val_loss: 0.2771 - val_Accuracy: 0.9067\n",
      "Epoch 21/60\n",
      "1685/1688 [============================>.] - ETA: 0s - loss: 0.2636 - Accuracy: 0.9112"
     ]
    },
    {
     "metadata": {
      "tags": null
     },
     "name": "stderr",
     "output_type": "stream",
     "text": [
      "WARNING:tensorflow:Early stopping conditioned on metric `val_accuracy` which is not available. Available metrics are: loss,Accuracy,val_loss,val_Accuracy\n"
     ]
    },
    {
     "metadata": {
      "tags": null
     },
     "name": "stdout",
     "output_type": "stream",
     "text": [
      "1688/1688 [==============================] - 34s 20ms/step - loss: 0.2635 - Accuracy: 0.9112 - val_loss: 0.3117 - val_Accuracy: 0.9002\n",
      "Epoch 22/60\n",
      "1687/1688 [============================>.] - ETA: 0s - loss: 0.2649 - Accuracy: 0.9121"
     ]
    },
    {
     "metadata": {
      "tags": null
     },
     "name": "stderr",
     "output_type": "stream",
     "text": [
      "WARNING:tensorflow:Early stopping conditioned on metric `val_accuracy` which is not available. Available metrics are: loss,Accuracy,val_loss,val_Accuracy\n"
     ]
    },
    {
     "metadata": {
      "tags": null
     },
     "name": "stdout",
     "output_type": "stream",
     "text": [
      "1688/1688 [==============================] - 30s 18ms/step - loss: 0.2649 - Accuracy: 0.9121 - val_loss: 0.2707 - val_Accuracy: 0.9068\n",
      "Epoch 23/60\n",
      "1687/1688 [============================>.] - ETA: 0s - loss: 0.2644 - Accuracy: 0.9130"
     ]
    },
    {
     "metadata": {
      "tags": null
     },
     "name": "stderr",
     "output_type": "stream",
     "text": [
      "WARNING:tensorflow:Early stopping conditioned on metric `val_accuracy` which is not available. Available metrics are: loss,Accuracy,val_loss,val_Accuracy\n"
     ]
    },
    {
     "metadata": {
      "tags": null
     },
     "name": "stdout",
     "output_type": "stream",
     "text": [
      "1688/1688 [==============================] - 31s 19ms/step - loss: 0.2643 - Accuracy: 0.9130 - val_loss: 0.2778 - val_Accuracy: 0.9085\n",
      "Epoch 24/60\n",
      "1688/1688 [==============================] - ETA: 0s - loss: 0.2614 - Accuracy: 0.9128"
     ]
    },
    {
     "metadata": {
      "tags": null
     },
     "name": "stderr",
     "output_type": "stream",
     "text": [
      "WARNING:tensorflow:Early stopping conditioned on metric `val_accuracy` which is not available. Available metrics are: loss,Accuracy,val_loss,val_Accuracy\n"
     ]
    },
    {
     "metadata": {
      "tags": null
     },
     "name": "stdout",
     "output_type": "stream",
     "text": [
      "1688/1688 [==============================] - 31s 18ms/step - loss: 0.2614 - Accuracy: 0.9128 - val_loss: 0.2867 - val_Accuracy: 0.9078\n",
      "Epoch 25/60\n",
      "1686/1688 [============================>.] - ETA: 0s - loss: 0.2559 - Accuracy: 0.9136"
     ]
    },
    {
     "metadata": {
      "tags": null
     },
     "name": "stderr",
     "output_type": "stream",
     "text": [
      "WARNING:tensorflow:Early stopping conditioned on metric `val_accuracy` which is not available. Available metrics are: loss,Accuracy,val_loss,val_Accuracy\n"
     ]
    },
    {
     "metadata": {
      "tags": null
     },
     "name": "stdout",
     "output_type": "stream",
     "text": [
      "1688/1688 [==============================] - 31s 18ms/step - loss: 0.2561 - Accuracy: 0.9136 - val_loss: 0.2640 - val_Accuracy: 0.9132\n",
      "Epoch 26/60\n",
      "1687/1688 [============================>.] - ETA: 0s - loss: 0.2575 - Accuracy: 0.9140"
     ]
    },
    {
     "metadata": {
      "tags": null
     },
     "name": "stderr",
     "output_type": "stream",
     "text": [
      "WARNING:tensorflow:Early stopping conditioned on metric `val_accuracy` which is not available. Available metrics are: loss,Accuracy,val_loss,val_Accuracy\n"
     ]
    },
    {
     "metadata": {
      "tags": null
     },
     "name": "stdout",
     "output_type": "stream",
     "text": [
      "1688/1688 [==============================] - 31s 18ms/step - loss: 0.2575 - Accuracy: 0.9140 - val_loss: 0.2853 - val_Accuracy: 0.9108\n",
      "Epoch 27/60\n",
      "1685/1688 [============================>.] - ETA: 0s - loss: 0.2568 - Accuracy: 0.9158"
     ]
    },
    {
     "metadata": {
      "tags": null
     },
     "name": "stderr",
     "output_type": "stream",
     "text": [
      "WARNING:tensorflow:Early stopping conditioned on metric `val_accuracy` which is not available. Available metrics are: loss,Accuracy,val_loss,val_Accuracy\n"
     ]
    },
    {
     "metadata": {
      "tags": null
     },
     "name": "stdout",
     "output_type": "stream",
     "text": [
      "1688/1688 [==============================] - 30s 18ms/step - loss: 0.2567 - Accuracy: 0.9157 - val_loss: 0.2653 - val_Accuracy: 0.9125\n",
      "Epoch 28/60\n",
      "1688/1688 [==============================] - ETA: 0s - loss: 0.2593 - Accuracy: 0.9135"
     ]
    },
    {
     "metadata": {
      "tags": null
     },
     "name": "stderr",
     "output_type": "stream",
     "text": [
      "WARNING:tensorflow:Early stopping conditioned on metric `val_accuracy` which is not available. Available metrics are: loss,Accuracy,val_loss,val_Accuracy\n"
     ]
    },
    {
     "metadata": {
      "tags": null
     },
     "name": "stdout",
     "output_type": "stream",
     "text": [
      "1688/1688 [==============================] - 32s 19ms/step - loss: 0.2593 - Accuracy: 0.9135 - val_loss: 0.2991 - val_Accuracy: 0.9110\n",
      "Epoch 29/60\n",
      "1687/1688 [============================>.] - ETA: 0s - loss: 0.2631 - Accuracy: 0.9111"
     ]
    },
    {
     "metadata": {
      "tags": null
     },
     "name": "stderr",
     "output_type": "stream",
     "text": [
      "WARNING:tensorflow:Early stopping conditioned on metric `val_accuracy` which is not available. Available metrics are: loss,Accuracy,val_loss,val_Accuracy\n"
     ]
    },
    {
     "metadata": {
      "tags": null
     },
     "name": "stdout",
     "output_type": "stream",
     "text": [
      "1688/1688 [==============================] - 31s 18ms/step - loss: 0.2631 - Accuracy: 0.9111 - val_loss: 0.3181 - val_Accuracy: 0.9020\n",
      "Epoch 30/60\n",
      "1687/1688 [============================>.] - ETA: 0s - loss: 0.2599 - Accuracy: 0.9134"
     ]
    },
    {
     "metadata": {
      "tags": null
     },
     "name": "stderr",
     "output_type": "stream",
     "text": [
      "WARNING:tensorflow:Early stopping conditioned on metric `val_accuracy` which is not available. Available metrics are: loss,Accuracy,val_loss,val_Accuracy\n"
     ]
    },
    {
     "metadata": {
      "tags": null
     },
     "name": "stdout",
     "output_type": "stream",
     "text": [
      "1688/1688 [==============================] - 30s 18ms/step - loss: 0.2600 - Accuracy: 0.9134 - val_loss: 0.2829 - val_Accuracy: 0.9105\n",
      "Epoch 31/60\n",
      "1687/1688 [============================>.] - ETA: 0s - loss: 0.2610 - Accuracy: 0.9121"
     ]
    },
    {
     "metadata": {
      "tags": null
     },
     "name": "stderr",
     "output_type": "stream",
     "text": [
      "WARNING:tensorflow:Early stopping conditioned on metric `val_accuracy` which is not available. Available metrics are: loss,Accuracy,val_loss,val_Accuracy\n"
     ]
    },
    {
     "metadata": {
      "tags": null
     },
     "name": "stdout",
     "output_type": "stream",
     "text": [
      "1688/1688 [==============================] - 31s 19ms/step - loss: 0.2609 - Accuracy: 0.9122 - val_loss: 0.2828 - val_Accuracy: 0.9085\n",
      "Epoch 32/60\n",
      "1687/1688 [============================>.] - ETA: 0s - loss: 0.2598 - Accuracy: 0.9123"
     ]
    },
    {
     "metadata": {
      "tags": null
     },
     "name": "stderr",
     "output_type": "stream",
     "text": [
      "WARNING:tensorflow:Early stopping conditioned on metric `val_accuracy` which is not available. Available metrics are: loss,Accuracy,val_loss,val_Accuracy\n"
     ]
    },
    {
     "metadata": {
      "tags": null
     },
     "name": "stdout",
     "output_type": "stream",
     "text": [
      "1688/1688 [==============================] - 30s 18ms/step - loss: 0.2598 - Accuracy: 0.9123 - val_loss: 0.2865 - val_Accuracy: 0.9152\n",
      "Epoch 33/60\n",
      "1686/1688 [============================>.] - ETA: 0s - loss: 0.2547 - Accuracy: 0.9147"
     ]
    },
    {
     "metadata": {
      "tags": null
     },
     "name": "stderr",
     "output_type": "stream",
     "text": [
      "WARNING:tensorflow:Early stopping conditioned on metric `val_accuracy` which is not available. Available metrics are: loss,Accuracy,val_loss,val_Accuracy\n"
     ]
    },
    {
     "metadata": {
      "tags": null
     },
     "name": "stdout",
     "output_type": "stream",
     "text": [
      "1688/1688 [==============================] - 31s 19ms/step - loss: 0.2547 - Accuracy: 0.9148 - val_loss: 0.2763 - val_Accuracy: 0.9120\n",
      "Epoch 34/60\n",
      "1688/1688 [==============================] - ETA: 0s - loss: 0.2585 - Accuracy: 0.9138"
     ]
    },
    {
     "metadata": {
      "tags": null
     },
     "name": "stderr",
     "output_type": "stream",
     "text": [
      "WARNING:tensorflow:Early stopping conditioned on metric `val_accuracy` which is not available. Available metrics are: loss,Accuracy,val_loss,val_Accuracy\n"
     ]
    },
    {
     "metadata": {
      "tags": null
     },
     "name": "stdout",
     "output_type": "stream",
     "text": [
      "1688/1688 [==============================] - 32s 19ms/step - loss: 0.2585 - Accuracy: 0.9138 - val_loss: 0.2595 - val_Accuracy: 0.9127\n",
      "Epoch 35/60\n",
      "1685/1688 [============================>.] - ETA: 0s - loss: 0.2572 - Accuracy: 0.9141"
     ]
    },
    {
     "metadata": {
      "tags": null
     },
     "name": "stderr",
     "output_type": "stream",
     "text": [
      "WARNING:tensorflow:Early stopping conditioned on metric `val_accuracy` which is not available. Available metrics are: loss,Accuracy,val_loss,val_Accuracy\n"
     ]
    },
    {
     "metadata": {
      "tags": null
     },
     "name": "stdout",
     "output_type": "stream",
     "text": [
      "1688/1688 [==============================] - 30s 18ms/step - loss: 0.2573 - Accuracy: 0.9141 - val_loss: 0.2712 - val_Accuracy: 0.9102\n",
      "Epoch 36/60\n",
      "1685/1688 [============================>.] - ETA: 0s - loss: 0.2584 - Accuracy: 0.9122"
     ]
    },
    {
     "metadata": {
      "tags": null
     },
     "name": "stderr",
     "output_type": "stream",
     "text": [
      "WARNING:tensorflow:Early stopping conditioned on metric `val_accuracy` which is not available. Available metrics are: loss,Accuracy,val_loss,val_Accuracy\n"
     ]
    },
    {
     "metadata": {
      "tags": null
     },
     "name": "stdout",
     "output_type": "stream",
     "text": [
      "1688/1688 [==============================] - 31s 18ms/step - loss: 0.2584 - Accuracy: 0.9122 - val_loss: 0.2845 - val_Accuracy: 0.9095\n",
      "Epoch 37/60\n",
      "1685/1688 [============================>.] - ETA: 0s - loss: 0.2627 - Accuracy: 0.9125"
     ]
    },
    {
     "metadata": {
      "tags": null
     },
     "name": "stderr",
     "output_type": "stream",
     "text": [
      "WARNING:tensorflow:Early stopping conditioned on metric `val_accuracy` which is not available. Available metrics are: loss,Accuracy,val_loss,val_Accuracy\n"
     ]
    },
    {
     "metadata": {
      "tags": null
     },
     "name": "stdout",
     "output_type": "stream",
     "text": [
      "1688/1688 [==============================] - 30s 18ms/step - loss: 0.2626 - Accuracy: 0.9125 - val_loss: 0.2865 - val_Accuracy: 0.9175\n",
      "Epoch 38/60\n",
      "1687/1688 [============================>.] - ETA: 0s - loss: 0.2643 - Accuracy: 0.9120"
     ]
    },
    {
     "metadata": {
      "tags": null
     },
     "name": "stderr",
     "output_type": "stream",
     "text": [
      "WARNING:tensorflow:Early stopping conditioned on metric `val_accuracy` which is not available. Available metrics are: loss,Accuracy,val_loss,val_Accuracy\n"
     ]
    },
    {
     "metadata": {
      "tags": null
     },
     "name": "stdout",
     "output_type": "stream",
     "text": [
      "1688/1688 [==============================] - 31s 19ms/step - loss: 0.2643 - Accuracy: 0.9120 - val_loss: 0.3098 - val_Accuracy: 0.9040\n",
      "Epoch 39/60\n",
      "1686/1688 [============================>.] - ETA: 0s - loss: 0.2632 - Accuracy: 0.9126"
     ]
    },
    {
     "metadata": {
      "tags": null
     },
     "name": "stderr",
     "output_type": "stream",
     "text": [
      "WARNING:tensorflow:Early stopping conditioned on metric `val_accuracy` which is not available. Available metrics are: loss,Accuracy,val_loss,val_Accuracy\n"
     ]
    },
    {
     "metadata": {
      "tags": null
     },
     "name": "stdout",
     "output_type": "stream",
     "text": [
      "1688/1688 [==============================] - 31s 18ms/step - loss: 0.2632 - Accuracy: 0.9126 - val_loss: 0.2921 - val_Accuracy: 0.9003\n",
      "Epoch 40/60\n",
      "1687/1688 [============================>.] - ETA: 0s - loss: 0.2627 - Accuracy: 0.9127"
     ]
    },
    {
     "metadata": {
      "tags": null
     },
     "name": "stderr",
     "output_type": "stream",
     "text": [
      "WARNING:tensorflow:Early stopping conditioned on metric `val_accuracy` which is not available. Available metrics are: loss,Accuracy,val_loss,val_Accuracy\n"
     ]
    },
    {
     "metadata": {
      "tags": null
     },
     "name": "stdout",
     "output_type": "stream",
     "text": [
      "1688/1688 [==============================] - 30s 18ms/step - loss: 0.2626 - Accuracy: 0.9127 - val_loss: 0.2936 - val_Accuracy: 0.9065\n",
      "Epoch 41/60\n",
      "1685/1688 [============================>.] - ETA: 0s - loss: 0.2631 - Accuracy: 0.9115"
     ]
    },
    {
     "metadata": {
      "tags": null
     },
     "name": "stderr",
     "output_type": "stream",
     "text": [
      "WARNING:tensorflow:Early stopping conditioned on metric `val_accuracy` which is not available. Available metrics are: loss,Accuracy,val_loss,val_Accuracy\n"
     ]
    },
    {
     "metadata": {
      "tags": null
     },
     "name": "stdout",
     "output_type": "stream",
     "text": [
      "1688/1688 [==============================] - 33s 20ms/step - loss: 0.2633 - Accuracy: 0.9114 - val_loss: 0.3167 - val_Accuracy: 0.8938\n",
      "Epoch 42/60\n",
      "1688/1688 [==============================] - ETA: 0s - loss: 0.2664 - Accuracy: 0.9107"
     ]
    },
    {
     "metadata": {
      "tags": null
     },
     "name": "stderr",
     "output_type": "stream",
     "text": [
      "WARNING:tensorflow:Early stopping conditioned on metric `val_accuracy` which is not available. Available metrics are: loss,Accuracy,val_loss,val_Accuracy\n"
     ]
    },
    {
     "metadata": {
      "tags": null
     },
     "name": "stdout",
     "output_type": "stream",
     "text": [
      "1688/1688 [==============================] - 37s 22ms/step - loss: 0.2664 - Accuracy: 0.9107 - val_loss: 0.3307 - val_Accuracy: 0.9058\n",
      "Epoch 43/60\n",
      "1688/1688 [==============================] - ETA: 0s - loss: 0.2595 - Accuracy: 0.9137"
     ]
    },
    {
     "metadata": {
      "tags": null
     },
     "name": "stderr",
     "output_type": "stream",
     "text": [
      "WARNING:tensorflow:Early stopping conditioned on metric `val_accuracy` which is not available. Available metrics are: loss,Accuracy,val_loss,val_Accuracy\n"
     ]
    },
    {
     "metadata": {
      "tags": null
     },
     "name": "stdout",
     "output_type": "stream",
     "text": [
      "1688/1688 [==============================] - 37s 22ms/step - loss: 0.2595 - Accuracy: 0.9137 - val_loss: 0.3323 - val_Accuracy: 0.9102\n",
      "Epoch 44/60\n",
      "1688/1688 [==============================] - ETA: 0s - loss: 0.2641 - Accuracy: 0.9123"
     ]
    },
    {
     "metadata": {
      "tags": null
     },
     "name": "stderr",
     "output_type": "stream",
     "text": [
      "WARNING:tensorflow:Early stopping conditioned on metric `val_accuracy` which is not available. Available metrics are: loss,Accuracy,val_loss,val_Accuracy\n"
     ]
    },
    {
     "metadata": {
      "tags": null
     },
     "name": "stdout",
     "output_type": "stream",
     "text": [
      "1688/1688 [==============================] - 37s 22ms/step - loss: 0.2641 - Accuracy: 0.9123 - val_loss: 0.2957 - val_Accuracy: 0.9035\n",
      "Epoch 45/60\n",
      "1686/1688 [============================>.] - ETA: 0s - loss: 0.2618 - Accuracy: 0.9138"
     ]
    },
    {
     "metadata": {
      "tags": null
     },
     "name": "stderr",
     "output_type": "stream",
     "text": [
      "WARNING:tensorflow:Early stopping conditioned on metric `val_accuracy` which is not available. Available metrics are: loss,Accuracy,val_loss,val_Accuracy\n"
     ]
    },
    {
     "metadata": {
      "tags": null
     },
     "name": "stdout",
     "output_type": "stream",
     "text": [
      "1688/1688 [==============================] - 37s 22ms/step - loss: 0.2619 - Accuracy: 0.9138 - val_loss: 0.2998 - val_Accuracy: 0.9077\n",
      "Epoch 46/60\n",
      "1686/1688 [============================>.] - ETA: 0s - loss: 0.2607 - Accuracy: 0.9128"
     ]
    },
    {
     "metadata": {
      "tags": null
     },
     "name": "stderr",
     "output_type": "stream",
     "text": [
      "WARNING:tensorflow:Early stopping conditioned on metric `val_accuracy` which is not available. Available metrics are: loss,Accuracy,val_loss,val_Accuracy\n"
     ]
    },
    {
     "metadata": {
      "tags": null
     },
     "name": "stdout",
     "output_type": "stream",
     "text": [
      "1688/1688 [==============================] - 37s 22ms/step - loss: 0.2607 - Accuracy: 0.9128 - val_loss: 0.3449 - val_Accuracy: 0.9022\n",
      "Epoch 47/60\n",
      "1687/1688 [============================>.] - ETA: 0s - loss: 0.2589 - Accuracy: 0.9137"
     ]
    },
    {
     "metadata": {
      "tags": null
     },
     "name": "stderr",
     "output_type": "stream",
     "text": [
      "WARNING:tensorflow:Early stopping conditioned on metric `val_accuracy` which is not available. Available metrics are: loss,Accuracy,val_loss,val_Accuracy\n"
     ]
    },
    {
     "metadata": {
      "tags": null
     },
     "name": "stdout",
     "output_type": "stream",
     "text": [
      "1688/1688 [==============================] - 37s 22ms/step - loss: 0.2590 - Accuracy: 0.9137 - val_loss: 0.3073 - val_Accuracy: 0.9008\n",
      "Epoch 48/60\n",
      "1686/1688 [============================>.] - ETA: 0s - loss: 0.2610 - Accuracy: 0.9133"
     ]
    },
    {
     "metadata": {
      "tags": null
     },
     "name": "stderr",
     "output_type": "stream",
     "text": [
      "WARNING:tensorflow:Early stopping conditioned on metric `val_accuracy` which is not available. Available metrics are: loss,Accuracy,val_loss,val_Accuracy\n"
     ]
    },
    {
     "metadata": {
      "tags": null
     },
     "name": "stdout",
     "output_type": "stream",
     "text": [
      "1688/1688 [==============================] - 37s 22ms/step - loss: 0.2608 - Accuracy: 0.9133 - val_loss: 0.3198 - val_Accuracy: 0.9123\n",
      "Epoch 49/60\n",
      "1688/1688 [==============================] - ETA: 0s - loss: 0.2613 - Accuracy: 0.9138"
     ]
    },
    {
     "metadata": {
      "tags": null
     },
     "name": "stderr",
     "output_type": "stream",
     "text": [
      "WARNING:tensorflow:Early stopping conditioned on metric `val_accuracy` which is not available. Available metrics are: loss,Accuracy,val_loss,val_Accuracy\n"
     ]
    },
    {
     "metadata": {
      "tags": null
     },
     "name": "stdout",
     "output_type": "stream",
     "text": [
      "1688/1688 [==============================] - 39s 23ms/step - loss: 0.2613 - Accuracy: 0.9138 - val_loss: 0.2859 - val_Accuracy: 0.9110\n",
      "Epoch 50/60\n",
      "1688/1688 [==============================] - ETA: 0s - loss: 0.2593 - Accuracy: 0.9154"
     ]
    },
    {
     "metadata": {
      "tags": null
     },
     "name": "stderr",
     "output_type": "stream",
     "text": [
      "WARNING:tensorflow:Early stopping conditioned on metric `val_accuracy` which is not available. Available metrics are: loss,Accuracy,val_loss,val_Accuracy\n"
     ]
    },
    {
     "metadata": {
      "tags": null
     },
     "name": "stdout",
     "output_type": "stream",
     "text": [
      "1688/1688 [==============================] - 37s 22ms/step - loss: 0.2593 - Accuracy: 0.9154 - val_loss: 0.3180 - val_Accuracy: 0.8960\n",
      "Epoch 51/60\n",
      "1686/1688 [============================>.] - ETA: 0s - loss: 0.2645 - Accuracy: 0.9114"
     ]
    },
    {
     "metadata": {
      "tags": null
     },
     "name": "stderr",
     "output_type": "stream",
     "text": [
      "WARNING:tensorflow:Early stopping conditioned on metric `val_accuracy` which is not available. Available metrics are: loss,Accuracy,val_loss,val_Accuracy\n"
     ]
    },
    {
     "metadata": {
      "tags": null
     },
     "name": "stdout",
     "output_type": "stream",
     "text": [
      "1688/1688 [==============================] - 37s 22ms/step - loss: 0.2645 - Accuracy: 0.9114 - val_loss: 0.3012 - val_Accuracy: 0.9070\n",
      "Epoch 52/60\n",
      "1688/1688 [==============================] - ETA: 0s - loss: 0.2621 - Accuracy: 0.9136"
     ]
    },
    {
     "metadata": {
      "tags": null
     },
     "name": "stderr",
     "output_type": "stream",
     "text": [
      "WARNING:tensorflow:Early stopping conditioned on metric `val_accuracy` which is not available. Available metrics are: loss,Accuracy,val_loss,val_Accuracy\n"
     ]
    },
    {
     "metadata": {
      "tags": null
     },
     "name": "stdout",
     "output_type": "stream",
     "text": [
      "1688/1688 [==============================] - 37s 22ms/step - loss: 0.2621 - Accuracy: 0.9136 - val_loss: 0.3070 - val_Accuracy: 0.9007\n",
      "Epoch 53/60\n",
      "1688/1688 [==============================] - ETA: 0s - loss: 0.2578 - Accuracy: 0.9147"
     ]
    },
    {
     "metadata": {
      "tags": null
     },
     "name": "stderr",
     "output_type": "stream",
     "text": [
      "WARNING:tensorflow:Early stopping conditioned on metric `val_accuracy` which is not available. Available metrics are: loss,Accuracy,val_loss,val_Accuracy\n"
     ]
    },
    {
     "metadata": {
      "tags": null
     },
     "name": "stdout",
     "output_type": "stream",
     "text": [
      "1688/1688 [==============================] - 37s 22ms/step - loss: 0.2578 - Accuracy: 0.9147 - val_loss: 0.3055 - val_Accuracy: 0.9070\n",
      "Epoch 54/60\n",
      "1688/1688 [==============================] - ETA: 0s - loss: 0.2580 - Accuracy: 0.9147"
     ]
    },
    {
     "metadata": {
      "tags": null
     },
     "name": "stderr",
     "output_type": "stream",
     "text": [
      "WARNING:tensorflow:Early stopping conditioned on metric `val_accuracy` which is not available. Available metrics are: loss,Accuracy,val_loss,val_Accuracy\n"
     ]
    },
    {
     "name": "stdout",
     "output_type": "stream",
     "text": [
      "1688/1688 [==============================] - 37s 22ms/step - loss: 0.2580 - Accuracy: 0.9147 - val_loss: 0.3342 - val_Accuracy: 0.9070\n",
      "Epoch 55/60\n",
      "1686/1688 [============================>.] - ETA: 0s - loss: 0.2564 - Accuracy: 0.9163"
     ]
    },
    {
     "name": "stderr",
     "output_type": "stream",
     "text": [
      "WARNING:tensorflow:Early stopping conditioned on metric `val_accuracy` which is not available. Available metrics are: loss,Accuracy,val_loss,val_Accuracy\n"
     ]
    },
    {
     "name": "stdout",
     "output_type": "stream",
     "text": [
      "1688/1688 [==============================] - 39s 23ms/step - loss: 0.2563 - Accuracy: 0.9163 - val_loss: 0.3103 - val_Accuracy: 0.9077\n",
      "Epoch 56/60\n",
      "1687/1688 [============================>.] - ETA: 0s - loss: 0.2557 - Accuracy: 0.9145"
     ]
    },
    {
     "name": "stderr",
     "output_type": "stream",
     "text": [
      "WARNING:tensorflow:Early stopping conditioned on metric `val_accuracy` which is not available. Available metrics are: loss,Accuracy,val_loss,val_Accuracy\n"
     ]
    },
    {
     "name": "stdout",
     "output_type": "stream",
     "text": [
      "1688/1688 [==============================] - 39s 23ms/step - loss: 0.2557 - Accuracy: 0.9145 - val_loss: 0.3294 - val_Accuracy: 0.9068\n",
      "Epoch 57/60\n",
      "1688/1688 [==============================] - ETA: 0s - loss: 0.2625 - Accuracy: 0.9146"
     ]
    },
    {
     "name": "stderr",
     "output_type": "stream",
     "text": [
      "WARNING:tensorflow:Early stopping conditioned on metric `val_accuracy` which is not available. Available metrics are: loss,Accuracy,val_loss,val_Accuracy\n"
     ]
    },
    {
     "name": "stdout",
     "output_type": "stream",
     "text": [
      "1688/1688 [==============================] - 40s 24ms/step - loss: 0.2625 - Accuracy: 0.9146 - val_loss: 0.3170 - val_Accuracy: 0.9053\n",
      "Epoch 58/60\n",
      "1686/1688 [============================>.] - ETA: 0s - loss: 0.2602 - Accuracy: 0.9149"
     ]
    },
    {
     "name": "stderr",
     "output_type": "stream",
     "text": [
      "WARNING:tensorflow:Early stopping conditioned on metric `val_accuracy` which is not available. Available metrics are: loss,Accuracy,val_loss,val_Accuracy\n"
     ]
    },
    {
     "name": "stdout",
     "output_type": "stream",
     "text": [
      "1688/1688 [==============================] - 39s 23ms/step - loss: 0.2601 - Accuracy: 0.9150 - val_loss: 0.3142 - val_Accuracy: 0.9063\n",
      "Epoch 59/60\n",
      "1687/1688 [============================>.] - ETA: 0s - loss: 0.2591 - Accuracy: 0.9137"
     ]
    },
    {
     "name": "stderr",
     "output_type": "stream",
     "text": [
      "WARNING:tensorflow:Early stopping conditioned on metric `val_accuracy` which is not available. Available metrics are: loss,Accuracy,val_loss,val_Accuracy\n"
     ]
    },
    {
     "name": "stdout",
     "output_type": "stream",
     "text": [
      "1688/1688 [==============================] - 39s 23ms/step - loss: 0.2591 - Accuracy: 0.9136 - val_loss: 0.3327 - val_Accuracy: 0.9082\n",
      "Epoch 60/60\n",
      "1688/1688 [==============================] - ETA: 0s - loss: 0.2549 - Accuracy: 0.9160"
     ]
    },
    {
     "name": "stderr",
     "output_type": "stream",
     "text": [
      "WARNING:tensorflow:Early stopping conditioned on metric `val_accuracy` which is not available. Available metrics are: loss,Accuracy,val_loss,val_Accuracy\n"
     ]
    },
    {
     "name": "stdout",
     "output_type": "stream",
     "text": [
      "1688/1688 [==============================] - 38s 23ms/step - loss: 0.2549 - Accuracy: 0.9160 - val_loss: 0.3241 - val_Accuracy: 0.9092\n"
     ]
    },
    {
     "data": {
      "text/plain": [
       "<keras.src.callbacks.History at 0x7f4bd826ff10>"
      ]
     },
     "execution_count": 164,
     "metadata": {},
     "output_type": "execute_result"
    }
   ],
   "source": [
    "model.fit(\n",
    "    x_train,\n",
    "    Y_train,\n",
    "    batch_size=32,\n",
    "    epochs=60,\n",
    "    validation_data=(x_val, Y_val),\n",
    "    callbacks=[early_stop],\n",
    ")"
   ]
  },
  {
   "cell_type": "markdown",
   "metadata": {
    "id": "RreLaamITKVB"
   },
   "source": [
    "**TASK 7: Plot values of metrics you used in your model.**"
   ]
  },
  {
   "cell_type": "code",
   "execution_count": 165,
   "metadata": {
    "colab": {
     "base_uri": "https://localhost:8080/"
    },
    "id": "_89cYjxGTKVB",
    "outputId": "d653d1a2-9b2e-4996-eb50-695ea0f679f8"
   },
   "outputs": [
    {
     "data": {
      "text/plain": [
       "['loss', 'Accuracy']"
      ]
     },
     "execution_count": 165,
     "metadata": {},
     "output_type": "execute_result"
    }
   ],
   "source": [
    "model.metrics_names\n"
   ]
  },
  {
   "cell_type": "code",
   "execution_count": 166,
   "metadata": {
    "colab": {
     "base_uri": "https://localhost:8080/",
     "height": 206
    },
    "id": "rCWfeLEVTKVB",
    "outputId": "97aee04d-b59a-4508-e2b7-b486830c155f"
   },
   "outputs": [
    {
     "data": {
      "text/html": [
       "\n",
       "  <div id=\"df-71434f91-3958-445e-bfad-4ac7de0297eb\" class=\"colab-df-container\">\n",
       "    <div>\n",
       "<style scoped>\n",
       "    .dataframe tbody tr th:only-of-type {\n",
       "        vertical-align: middle;\n",
       "    }\n",
       "\n",
       "    .dataframe tbody tr th {\n",
       "        vertical-align: top;\n",
       "    }\n",
       "\n",
       "    .dataframe thead th {\n",
       "        text-align: right;\n",
       "    }\n",
       "</style>\n",
       "<table border=\"1\" class=\"dataframe\">\n",
       "  <thead>\n",
       "    <tr style=\"text-align: right;\">\n",
       "      <th></th>\n",
       "      <th>loss</th>\n",
       "      <th>Accuracy</th>\n",
       "      <th>val_loss</th>\n",
       "      <th>val_Accuracy</th>\n",
       "    </tr>\n",
       "  </thead>\n",
       "  <tbody>\n",
       "    <tr>\n",
       "      <th>0</th>\n",
       "      <td>0.518</td>\n",
       "      <td>0.821</td>\n",
       "      <td>0.332</td>\n",
       "      <td>0.881</td>\n",
       "    </tr>\n",
       "    <tr>\n",
       "      <th>1</th>\n",
       "      <td>0.362</td>\n",
       "      <td>0.873</td>\n",
       "      <td>0.303</td>\n",
       "      <td>0.888</td>\n",
       "    </tr>\n",
       "    <tr>\n",
       "      <th>2</th>\n",
       "      <td>0.331</td>\n",
       "      <td>0.884</td>\n",
       "      <td>0.274</td>\n",
       "      <td>0.902</td>\n",
       "    </tr>\n",
       "    <tr>\n",
       "      <th>3</th>\n",
       "      <td>0.315</td>\n",
       "      <td>0.889</td>\n",
       "      <td>0.272</td>\n",
       "      <td>0.901</td>\n",
       "    </tr>\n",
       "    <tr>\n",
       "      <th>4</th>\n",
       "      <td>0.303</td>\n",
       "      <td>0.895</td>\n",
       "      <td>0.321</td>\n",
       "      <td>0.891</td>\n",
       "    </tr>\n",
       "  </tbody>\n",
       "</table>\n",
       "</div>\n",
       "    <div class=\"colab-df-buttons\">\n",
       "\n",
       "  <div class=\"colab-df-container\">\n",
       "    <button class=\"colab-df-convert\" onclick=\"convertToInteractive('df-71434f91-3958-445e-bfad-4ac7de0297eb')\"\n",
       "            title=\"Convert this dataframe to an interactive table.\"\n",
       "            style=\"display:none;\">\n",
       "\n",
       "  <svg xmlns=\"http://www.w3.org/2000/svg\" height=\"24px\" viewBox=\"0 -960 960 960\">\n",
       "    <path d=\"M120-120v-720h720v720H120Zm60-500h600v-160H180v160Zm220 220h160v-160H400v160Zm0 220h160v-160H400v160ZM180-400h160v-160H180v160Zm440 0h160v-160H620v160ZM180-180h160v-160H180v160Zm440 0h160v-160H620v160Z\"/>\n",
       "  </svg>\n",
       "    </button>\n",
       "\n",
       "  <style>\n",
       "    .colab-df-container {\n",
       "      display:flex;\n",
       "      gap: 12px;\n",
       "    }\n",
       "\n",
       "    .colab-df-convert {\n",
       "      background-color: #E8F0FE;\n",
       "      border: none;\n",
       "      border-radius: 50%;\n",
       "      cursor: pointer;\n",
       "      display: none;\n",
       "      fill: #1967D2;\n",
       "      height: 32px;\n",
       "      padding: 0 0 0 0;\n",
       "      width: 32px;\n",
       "    }\n",
       "\n",
       "    .colab-df-convert:hover {\n",
       "      background-color: #E2EBFA;\n",
       "      box-shadow: 0px 1px 2px rgba(60, 64, 67, 0.3), 0px 1px 3px 1px rgba(60, 64, 67, 0.15);\n",
       "      fill: #174EA6;\n",
       "    }\n",
       "\n",
       "    .colab-df-buttons div {\n",
       "      margin-bottom: 4px;\n",
       "    }\n",
       "\n",
       "    [theme=dark] .colab-df-convert {\n",
       "      background-color: #3B4455;\n",
       "      fill: #D2E3FC;\n",
       "    }\n",
       "\n",
       "    [theme=dark] .colab-df-convert:hover {\n",
       "      background-color: #434B5C;\n",
       "      box-shadow: 0px 1px 3px 1px rgba(0, 0, 0, 0.15);\n",
       "      filter: drop-shadow(0px 1px 2px rgba(0, 0, 0, 0.3));\n",
       "      fill: #FFFFFF;\n",
       "    }\n",
       "  </style>\n",
       "\n",
       "    <script>\n",
       "      const buttonEl =\n",
       "        document.querySelector('#df-71434f91-3958-445e-bfad-4ac7de0297eb button.colab-df-convert');\n",
       "      buttonEl.style.display =\n",
       "        google.colab.kernel.accessAllowed ? 'block' : 'none';\n",
       "\n",
       "      async function convertToInteractive(key) {\n",
       "        const element = document.querySelector('#df-71434f91-3958-445e-bfad-4ac7de0297eb');\n",
       "        const dataTable =\n",
       "          await google.colab.kernel.invokeFunction('convertToInteractive',\n",
       "                                                    [key], {});\n",
       "        if (!dataTable) return;\n",
       "\n",
       "        const docLinkHtml = 'Like what you see? Visit the ' +\n",
       "          '<a target=\"_blank\" href=https://colab.research.google.com/notebooks/data_table.ipynb>data table notebook</a>'\n",
       "          + ' to learn more about interactive tables.';\n",
       "        element.innerHTML = '';\n",
       "        dataTable['output_type'] = 'display_data';\n",
       "        await google.colab.output.renderOutput(dataTable, element);\n",
       "        const docLink = document.createElement('div');\n",
       "        docLink.innerHTML = docLinkHtml;\n",
       "        element.appendChild(docLink);\n",
       "      }\n",
       "    </script>\n",
       "  </div>\n",
       "\n",
       "\n",
       "<div id=\"df-8d8fb018-9780-4e29-b547-bcaaa472420e\">\n",
       "  <button class=\"colab-df-quickchart\" onclick=\"quickchart('df-8d8fb018-9780-4e29-b547-bcaaa472420e')\"\n",
       "            title=\"Suggest charts.\"\n",
       "            style=\"display:none;\">\n",
       "\n",
       "<svg xmlns=\"http://www.w3.org/2000/svg\" height=\"24px\"viewBox=\"0 0 24 24\"\n",
       "     width=\"24px\">\n",
       "    <g>\n",
       "        <path d=\"M19 3H5c-1.1 0-2 .9-2 2v14c0 1.1.9 2 2 2h14c1.1 0 2-.9 2-2V5c0-1.1-.9-2-2-2zM9 17H7v-7h2v7zm4 0h-2V7h2v10zm4 0h-2v-4h2v4z\"/>\n",
       "    </g>\n",
       "</svg>\n",
       "  </button>\n",
       "\n",
       "<style>\n",
       "  .colab-df-quickchart {\n",
       "      --bg-color: #E8F0FE;\n",
       "      --fill-color: #1967D2;\n",
       "      --hover-bg-color: #E2EBFA;\n",
       "      --hover-fill-color: #174EA6;\n",
       "      --disabled-fill-color: #AAA;\n",
       "      --disabled-bg-color: #DDD;\n",
       "  }\n",
       "\n",
       "  [theme=dark] .colab-df-quickchart {\n",
       "      --bg-color: #3B4455;\n",
       "      --fill-color: #D2E3FC;\n",
       "      --hover-bg-color: #434B5C;\n",
       "      --hover-fill-color: #FFFFFF;\n",
       "      --disabled-bg-color: #3B4455;\n",
       "      --disabled-fill-color: #666;\n",
       "  }\n",
       "\n",
       "  .colab-df-quickchart {\n",
       "    background-color: var(--bg-color);\n",
       "    border: none;\n",
       "    border-radius: 50%;\n",
       "    cursor: pointer;\n",
       "    display: none;\n",
       "    fill: var(--fill-color);\n",
       "    height: 32px;\n",
       "    padding: 0;\n",
       "    width: 32px;\n",
       "  }\n",
       "\n",
       "  .colab-df-quickchart:hover {\n",
       "    background-color: var(--hover-bg-color);\n",
       "    box-shadow: 0 1px 2px rgba(60, 64, 67, 0.3), 0 1px 3px 1px rgba(60, 64, 67, 0.15);\n",
       "    fill: var(--button-hover-fill-color);\n",
       "  }\n",
       "\n",
       "  .colab-df-quickchart-complete:disabled,\n",
       "  .colab-df-quickchart-complete:disabled:hover {\n",
       "    background-color: var(--disabled-bg-color);\n",
       "    fill: var(--disabled-fill-color);\n",
       "    box-shadow: none;\n",
       "  }\n",
       "\n",
       "  .colab-df-spinner {\n",
       "    border: 2px solid var(--fill-color);\n",
       "    border-color: transparent;\n",
       "    border-bottom-color: var(--fill-color);\n",
       "    animation:\n",
       "      spin 1s steps(1) infinite;\n",
       "  }\n",
       "\n",
       "  @keyframes spin {\n",
       "    0% {\n",
       "      border-color: transparent;\n",
       "      border-bottom-color: var(--fill-color);\n",
       "      border-left-color: var(--fill-color);\n",
       "    }\n",
       "    20% {\n",
       "      border-color: transparent;\n",
       "      border-left-color: var(--fill-color);\n",
       "      border-top-color: var(--fill-color);\n",
       "    }\n",
       "    30% {\n",
       "      border-color: transparent;\n",
       "      border-left-color: var(--fill-color);\n",
       "      border-top-color: var(--fill-color);\n",
       "      border-right-color: var(--fill-color);\n",
       "    }\n",
       "    40% {\n",
       "      border-color: transparent;\n",
       "      border-right-color: var(--fill-color);\n",
       "      border-top-color: var(--fill-color);\n",
       "    }\n",
       "    60% {\n",
       "      border-color: transparent;\n",
       "      border-right-color: var(--fill-color);\n",
       "    }\n",
       "    80% {\n",
       "      border-color: transparent;\n",
       "      border-right-color: var(--fill-color);\n",
       "      border-bottom-color: var(--fill-color);\n",
       "    }\n",
       "    90% {\n",
       "      border-color: transparent;\n",
       "      border-bottom-color: var(--fill-color);\n",
       "    }\n",
       "  }\n",
       "</style>\n",
       "\n",
       "  <script>\n",
       "    async function quickchart(key) {\n",
       "      const quickchartButtonEl =\n",
       "        document.querySelector('#' + key + ' button');\n",
       "      quickchartButtonEl.disabled = true;  // To prevent multiple clicks.\n",
       "      quickchartButtonEl.classList.add('colab-df-spinner');\n",
       "      try {\n",
       "        const charts = await google.colab.kernel.invokeFunction(\n",
       "            'suggestCharts', [key], {});\n",
       "      } catch (error) {\n",
       "        console.error('Error during call to suggestCharts:', error);\n",
       "      }\n",
       "      quickchartButtonEl.classList.remove('colab-df-spinner');\n",
       "      quickchartButtonEl.classList.add('colab-df-quickchart-complete');\n",
       "    }\n",
       "    (() => {\n",
       "      let quickchartButtonEl =\n",
       "        document.querySelector('#df-8d8fb018-9780-4e29-b547-bcaaa472420e button');\n",
       "      quickchartButtonEl.style.display =\n",
       "        google.colab.kernel.accessAllowed ? 'block' : 'none';\n",
       "    })();\n",
       "  </script>\n",
       "</div>\n",
       "    </div>\n",
       "  </div>\n"
      ],
      "text/plain": [
       "   loss  Accuracy  val_loss  val_Accuracy\n",
       "0 0.518     0.821     0.332         0.881\n",
       "1 0.362     0.873     0.303         0.888\n",
       "2 0.331     0.884     0.274         0.902\n",
       "3 0.315     0.889     0.272         0.901\n",
       "4 0.303     0.895     0.321         0.891"
      ]
     },
     "execution_count": 166,
     "metadata": {},
     "output_type": "execute_result"
    }
   ],
   "source": [
    "summary = pd.DataFrame(model.history.history)\n",
    "summary.head()"
   ]
  },
  {
   "cell_type": "code",
   "execution_count": 167,
   "metadata": {
    "colab": {
     "base_uri": "https://localhost:8080/",
     "height": 522
    },
    "id": "SB7yE3PKBeII",
    "outputId": "351b7eec-412f-4d67-c693-0f5c12cba232"
   },
   "outputs": [
    {
     "data": {
      "image/png": "[encoded data removed]",
      "text/plain": [
       "<Figure size 1000x600 with 1 Axes>"
      ]
     },
     "metadata": {},
     "output_type": "display_data"
    }
   ],
   "source": [
    "summary.plot();"
   ]
  },
  {
   "cell_type": "code",
   "execution_count": 168,
   "metadata": {
    "colab": {
     "base_uri": "https://localhost:8080/",
     "height": 522
    },
    "id": "uZhYwrxVBjpF",
    "outputId": "8539a074-f0da-4f3d-e400-e1232d0edb03"
   },
   "outputs": [
    {
     "data": {
      "image/png": "[encoded data removed]",
      "text/plain": [
       "<Figure size 1000x600 with 1 Axes>"
      ]
     },
     "metadata": {},
     "output_type": "display_data"
    }
   ],
   "source": [
    "summary[[\"loss\", \"val_loss\"]].plot();"
   ]
  },
  {
   "cell_type": "code",
   "execution_count": 169,
   "metadata": {
    "colab": {
     "base_uri": "https://localhost:8080/",
     "height": 522
    },
    "id": "CttQ45ixBkfE",
    "outputId": "32f9763a-8cb0-467d-9558-44f09ee6bb70"
   },
   "outputs": [
    {
     "data": {
      "image/png": "[encoded data removed]",
      "text/plain": [
       "<Figure size 1000x600 with 1 Axes>"
      ]
     },
     "metadata": {},
     "output_type": "display_data"
    }
   ],
   "source": [
    "summary[[\"Accuracy\", \"val_Accuracy\"]].plot();"
   ]
  },
  {
   "cell_type": "markdown",
   "metadata": {
    "id": "8uyfsIhKTKVC"
   },
   "source": [
    "## Model Evaluation\n",
    "\n",
    "**TASK 8: Show the accuracy,precision,recall,f1-score the model achieved on the x_test data set. Keep in mind, there are quite a few ways to do this, but we recommend following the same procedure we showed in the MNIST lecture.**"
   ]
  },
  {
   "cell_type": "code",
   "execution_count": 170,
   "metadata": {
    "id": "ogtS7WbBTKVC"
   },
   "outputs": [],
   "source": [
    "from sklearn.metrics import (\n",
    "    classification_report,\n",
    "    confusion_matrix,\n",
    "    multilabel_confusion_matrix,\n",
    ")"
   ]
  },
  {
   "cell_type": "code",
   "execution_count": 171,
   "metadata": {
    "colab": {
     "base_uri": "https://localhost:8080/"
    },
    "id": "G1APAxrgTKVP",
    "outputId": "26aab2cf-e656-4cb8-8842-3641b73357cb"
   },
   "outputs": [
    {
     "name": "stdout",
     "output_type": "stream",
     "text": [
      "313/313 [==============================] - 2s 7ms/step - loss: 0.3980 - Accuracy: 0.9014\n"
     ]
    },
    {
     "data": {
      "text/plain": [
       "[0.39795491099357605, 0.9014000296592712]"
      ]
     },
     "execution_count": 171,
     "metadata": {},
     "output_type": "execute_result"
    }
   ],
   "source": [
    "model.evaluate(x_test, Y_test)"
   ]
  },
  {
   "cell_type": "code",
   "execution_count": 172,
   "metadata": {
    "colab": {
     "base_uri": "https://localhost:8080/"
    },
    "id": "x-_60CbcTKVP",
    "outputId": "775e8e88-5003-4b1b-ec86-dec64e43e751"
   },
   "outputs": [
    {
     "name": "stdout",
     "output_type": "stream",
     "text": [
      "Test loss: 0.39795491099357605\n",
      "Test accuracy: 0.9014000296592712\n"
     ]
    }
   ],
   "source": [
    "score = model.evaluate(x_test, Y_test, verbose=0)\n",
    "print(\"Test loss:\", score[0])\n",
    "print(\"Test accuracy:\", score[1])"
   ]
  },
  {
   "cell_type": "code",
   "execution_count": 173,
   "metadata": {
    "colab": {
     "base_uri": "https://localhost:8080/"
    },
    "id": "h6mzq9YCTKVQ",
    "outputId": "d11b77b2-1f2c-4605-fe5c-86c64ab3c0ed"
   },
   "outputs": [
    {
     "name": "stdout",
     "output_type": "stream",
     "text": [
      "313/313 [==============================] - 3s 8ms/step\n"
     ]
    },
    {
     "data": {
      "text/plain": [
       "array([[0.        , 0.        , 0.        , ..., 0.00000026, 0.        ,\n",
       "        0.9999996 ],\n",
       "       [0.        , 0.        , 0.99999994, ..., 0.        , 0.        ,\n",
       "        0.        ],\n",
       "       [0.        , 0.99999994, 0.        , ..., 0.        , 0.        ,\n",
       "        0.        ],\n",
       "       ...,\n",
       "       [0.        , 0.        , 0.        , ..., 0.        , 0.99999994,\n",
       "        0.        ],\n",
       "       [0.        , 0.99999994, 0.        , ..., 0.        , 0.        ,\n",
       "        0.        ],\n",
       "       [0.00001881, 0.00000268, 0.00001254, ..., 0.15401328, 0.00119587,\n",
       "        0.0009029 ]], dtype=float32)"
      ]
     },
     "execution_count": 173,
     "metadata": {},
     "output_type": "execute_result"
    }
   ],
   "source": [
    "pred_prob = model.predict(x_test)\n",
    "pred_prob"
   ]
  },
  {
   "cell_type": "code",
   "execution_count": 174,
   "metadata": {
    "colab": {
     "base_uri": "https://localhost:8080/"
    },
    "id": "cYiLNkX1DOoe",
    "outputId": "630237fa-178f-4b62-df3e-911eb4666e09"
   },
   "outputs": [
    {
     "data": {
      "text/plain": [
       "(10000, 10)"
      ]
     },
     "execution_count": 174,
     "metadata": {},
     "output_type": "execute_result"
    }
   ],
   "source": [
    "pred_prob.shape"
   ]
  },
  {
   "cell_type": "code",
   "execution_count": 175,
   "metadata": {
    "colab": {
     "base_uri": "https://localhost:8080/"
    },
    "id": "rhMTaLDPDOuF",
    "outputId": "f00bc36f-6236-441d-c814-ce6b47d87c95"
   },
   "outputs": [
    {
     "data": {
      "text/plain": [
       "array([0.        , 0.        , 0.        , 0.        , 0.        ,\n",
       "       0.00000007, 0.        , 0.00000026, 0.        , 0.9999996 ],\n",
       "      dtype=float32)"
      ]
     },
     "execution_count": 175,
     "metadata": {},
     "output_type": "execute_result"
    }
   ],
   "source": [
    "pred_prob[0]"
   ]
  },
  {
   "cell_type": "code",
   "execution_count": 176,
   "metadata": {
    "colab": {
     "base_uri": "https://localhost:8080/"
    },
    "id": "SGGTHyOEDO1N",
    "outputId": "aae80386-eae0-4169-9ffe-998f14ea0336"
   },
   "outputs": [
    {
     "data": {
      "text/plain": [
       "9"
      ]
     },
     "execution_count": 176,
     "metadata": {},
     "output_type": "execute_result"
    }
   ],
   "source": [
    "np.argmax(pred_prob[0])"
   ]
  },
  {
   "cell_type": "code",
   "execution_count": 177,
   "metadata": {
    "colab": {
     "base_uri": "https://localhost:8080/"
    },
    "id": "HZenAEGGDZTT",
    "outputId": "542597ad-6437-45d6-8678-9609898bdf0c"
   },
   "outputs": [
    {
     "data": {
      "text/plain": [
       "array([9, 2, 1, ..., 8, 1, 5])"
      ]
     },
     "execution_count": 177,
     "metadata": {},
     "output_type": "execute_result"
    }
   ],
   "source": [
    "y_pred = np.argmax(pred_prob, axis=1)\n",
    "y_pred"
   ]
  },
  {
   "cell_type": "code",
   "execution_count": 178,
   "metadata": {
    "colab": {
     "base_uri": "https://localhost:8080/"
    },
    "id": "YJRqh4yuDb_-",
    "outputId": "3d69a8b6-d904-4c2b-a148-4dbdaf6eb96c"
   },
   "outputs": [
    {
     "data": {
      "text/plain": [
       "(10000,)"
      ]
     },
     "execution_count": 178,
     "metadata": {},
     "output_type": "execute_result"
    }
   ],
   "source": [
    "y_pred.shape"
   ]
  },
  {
   "cell_type": "code",
   "execution_count": 179,
   "metadata": {
    "colab": {
     "base_uri": "https://localhost:8080/"
    },
    "id": "OnQ_0Ll1DcE7",
    "outputId": "04267278-145b-474f-da82-4d7a4682d967"
   },
   "outputs": [
    {
     "name": "stdout",
     "output_type": "stream",
     "text": [
      "              precision    recall  f1-score   support\n",
      "\n",
      "           0       0.82      0.87      0.85      1000\n",
      "           1       0.99      0.97      0.98      1000\n",
      "           2       0.85      0.81      0.83      1000\n",
      "           3       0.87      0.93      0.90      1000\n",
      "           4       0.81      0.86      0.83      1000\n",
      "           5       0.99      0.97      0.98      1000\n",
      "           6       0.76      0.69      0.72      1000\n",
      "           7       0.95      0.98      0.96      1000\n",
      "           8       0.99      0.98      0.98      1000\n",
      "           9       0.97      0.96      0.97      1000\n",
      "\n",
      "    accuracy                           0.90     10000\n",
      "   macro avg       0.90      0.90      0.90     10000\n",
      "weighted avg       0.90      0.90      0.90     10000\n",
      "\n"
     ]
    }
   ],
   "source": [
    "print(classification_report(y_test, y_pred))"
   ]
  },
  {
   "cell_type": "code",
   "execution_count": 180,
   "metadata": {
    "colab": {
     "base_uri": "https://localhost:8080/"
    },
    "id": "_MWPGyUIDcNO",
    "outputId": "2339f07c-92f0-4d7d-a491-4584c8fdb36c"
   },
   "outputs": [
    {
     "name": "stdout",
     "output_type": "stream",
     "text": [
      "[[873   1  11  42   4   1  66   0   2   0]\n",
      " [  3 968   2  18   3   0   5   0   1   0]\n",
      " [ 21   0 814   7  94   0  64   0   0   0]\n",
      " [ 16   4   6 932  16   0  26   0   0   0]\n",
      " [  0   0  66  30 856   0  47   0   1   0]\n",
      " [  0   0   0   1   0 968   0  21   0  10]\n",
      " [143   1  55  32  78   0 686   0   5   0]\n",
      " [  0   0   0   0   0   2   0 977   0  21]\n",
      " [  5   0   0   5   0   3   6   5 976   0]\n",
      " [  0   0   0   1   0   5   0  30   0 964]]\n"
     ]
    }
   ],
   "source": [
    "print(confusion_matrix(y_test, y_pred))"
   ]
  },
  {
   "cell_type": "code",
   "execution_count": 181,
   "metadata": {
    "colab": {
     "base_uri": "https://localhost:8080/",
     "height": 830
    },
    "id": "6M1JUEmoDiS4",
    "outputId": "59bb4f31-f400-4c53-eb4b-d4950ef24a2f"
   },
   "outputs": [
    {
     "data": {
      "image/png": "[encoded data removed]",
      "text/plain": [
       "<Figure size 1500x1000 with 2 Axes>"
      ]
     },
     "metadata": {},
     "output_type": "display_data"
    }
   ],
   "source": [
    "plt.figure(figsize=(15, 10))\n",
    "sns.heatmap(\n",
    "    confusion_matrix(y_test, y_pred),\n",
    "    annot=True,\n",
    "    cmap=\"Blues\",\n",
    "    linewidths=0.5,\n",
    "    linecolor=\"black\",\n",
    "    fmt=\"g\",\n",
    "    annot_kws={\"size\": 15},\n",
    ")\n",
    "plt.show()"
   ]
  },
  {
   "cell_type": "code",
   "execution_count": 182,
   "metadata": {
    "colab": {
     "base_uri": "https://localhost:8080/"
    },
    "id": "8htpGMd7DnUI",
    "outputId": "c7e7cb92-b1dc-47f5-c71a-1f9333ec2d23"
   },
   "outputs": [
    {
     "data": {
      "text/plain": [
       "array([False, False, False, ..., False, False, False])"
      ]
     },
     "execution_count": 182,
     "metadata": {},
     "output_type": "execute_result"
    }
   ],
   "source": [
    "np.not_equal(y_test, y_pred)"
   ]
  },
  {
   "cell_type": "code",
   "execution_count": 183,
   "metadata": {
    "colab": {
     "base_uri": "https://localhost:8080/"
    },
    "id": "CRRDVFNGDwdx",
    "outputId": "fadbfbe0-0058-4585-eb7a-655feaf6472a"
   },
   "outputs": [
    {
     "data": {
      "text/plain": [
       "986"
      ]
     },
     "execution_count": 183,
     "metadata": {},
     "output_type": "execute_result"
    }
   ],
   "source": [
    "# (y_test != y_pred).sum()\n",
    "np.not_equal(y_test, y_pred).sum()"
   ]
  },
  {
   "cell_type": "code",
   "execution_count": 184,
   "metadata": {
    "colab": {
     "base_uri": "https://localhost:8080/"
    },
    "id": "KgzEsWvJDwl6",
    "outputId": "8d627d93-09c0-481d-b4fc-68dae0de5357"
   },
   "outputs": [
    {
     "data": {
      "text/plain": [
       "9014"
      ]
     },
     "execution_count": 184,
     "metadata": {},
     "output_type": "execute_result"
    }
   ],
   "source": [
    "np.equal(y_test, y_pred).sum()"
   ]
  },
  {
   "cell_type": "markdown",
   "metadata": {
    "id": "HmVdgDmaTKVQ"
   },
   "source": [
    "## Prediction"
   ]
  },
  {
   "cell_type": "code",
   "execution_count": 211,
   "metadata": {
    "id": "S9cDrh5OTKVQ"
   },
   "outputs": [],
   "source": [
    "my_number = x_test[111]"
   ]
  },
  {
   "cell_type": "code",
   "execution_count": 212,
   "metadata": {
    "colab": {
     "base_uri": "https://localhost:8080/"
    },
    "id": "dUU7n97zTKVQ",
    "outputId": "b94ed3f6-049c-49af-8f50-46dcee1bc534"
   },
   "outputs": [
    {
     "data": {
      "text/plain": [
       "(28, 28, 1)"
      ]
     },
     "execution_count": 212,
     "metadata": {},
     "output_type": "execute_result"
    }
   ],
   "source": [
    "my_number.shape"
   ]
  },
  {
   "cell_type": "code",
   "execution_count": 213,
   "metadata": {
    "colab": {
     "base_uri": "https://localhost:8080/",
     "height": 522
    },
    "id": "J6M1Cr4qUssn",
    "outputId": "98ff12e4-3611-4a11-d237-55f09bebddbf"
   },
   "outputs": [
    {
     "data": {
      "image/png": "[encoded data removed]",
      "text/plain": [
       "<Figure size 1000x600 with 1 Axes>"
      ]
     },
     "metadata": {},
     "output_type": "display_data"
    }
   ],
   "source": [
    "plt.imshow(my_number)\n",
    "plt.show()"
   ]
  },
  {
   "cell_type": "code",
   "execution_count": 214,
   "metadata": {
    "colab": {
     "base_uri": "https://localhost:8080/"
    },
    "id": "7cu28VKUUsyo",
    "outputId": "1f09d519-fec5-4943-cfa7-fa5c4dc68278"
   },
   "outputs": [
    {
     "data": {
      "text/plain": [
       "(1, 28, 28, 1)"
      ]
     },
     "execution_count": 214,
     "metadata": {},
     "output_type": "execute_result"
    }
   ],
   "source": [
    "np.expand_dims(my_number, 0).shape"
   ]
  },
  {
   "cell_type": "code",
   "execution_count": 215,
   "metadata": {
    "colab": {
     "base_uri": "https://localhost:8080/"
    },
    "id": "siY2MvWxUs1R",
    "outputId": "97b23fa3-b088-47eb-cc27-a100ad439589"
   },
   "outputs": [
    {
     "name": "stdout",
     "output_type": "stream",
     "text": [
      "1/1 [==============================] - 0s 28ms/step\n"
     ]
    },
    {
     "data": {
      "text/plain": [
       "array([[0., 0., 0., 0., 0., 1., 0., 0., 0., 0.]], dtype=float32)"
      ]
     },
     "execution_count": 215,
     "metadata": {},
     "output_type": "execute_result"
    }
   ],
   "source": [
    "pred_prob = model.predict(np.expand_dims(my_number, 0))\n",
    "pred_prob"
   ]
  },
  {
   "cell_type": "code",
   "execution_count": 216,
   "metadata": {
    "colab": {
     "base_uri": "https://localhost:8080/"
    },
    "id": "hnnS2Sr1Us4h",
    "outputId": "b4d05118-cb1c-4f99-e030-619c5edf176e"
   },
   "outputs": [
    {
     "data": {
      "text/plain": [
       "5"
      ]
     },
     "execution_count": 216,
     "metadata": {},
     "output_type": "execute_result"
    }
   ],
   "source": [
    "y_pred = np.argmax(pred_prob)\n",
    "y_pred"
   ]
  },
  {
   "cell_type": "code",
   "execution_count": 223,
   "metadata": {
    "colab": {
     "base_uri": "https://localhost:8080/"
    },
    "id": "ZVc27bH3yOHC",
    "outputId": "c912dae6-ff03-4c92-d9af-bfd872eff6eb"
   },
   "outputs": [
    {
     "name": "stderr",
     "output_type": "stream",
     "text": [
      "/usr/local/lib/python3.10/dist-packages/keras/src/engine/training.py:3079: UserWarning: You are saving your model as an HDF5 file via `model.save()`. This file format is considered legacy. We recommend using instead the native Keras format, e.g. `model.save('my_model.keras')`.\n",
      "  saving_api.save_model(\n"
     ]
    }
   ],
   "source": [
    "model.save(\"cnn_classifictio-1.h5\")"
   ]
  },
  {
   "cell_type": "markdown",
   "metadata": {
    "id": "Sj_Ry738zF7-"
   },
   "source": [
    "Using the saved model\n"
   ]
  },
  {
   "cell_type": "code",
   "execution_count": 222,
   "metadata": {
    "id": "gqEGO4viUs9j"
   },
   "outputs": [],
   "source": [
    "model = tf.keras.models.load_model(\"cnn_classifictio-1.h5\")\n",
    "\n",
    "\n"
   ]
  },
  {
   "cell_type": "code",
   "execution_count": 225,
   "metadata": {
    "colab": {
     "base_uri": "https://localhost:8080/"
    },
    "id": "jcNPAe5dzKcK",
    "outputId": "e3fbb19e-a62d-4c02-a9c8-f8c7600e93a1"
   },
   "outputs": [
    {
     "name": "stdout",
     "output_type": "stream",
     "text": [
      "1/1 [==============================] - 0s 40ms/step\n"
     ]
    }
   ],
   "source": [
    "pred = model.predict(np.expand_dims(x_test[30], 0))"
   ]
  },
  {
   "cell_type": "code",
   "execution_count": 226,
   "metadata": {
    "colab": {
     "base_uri": "https://localhost:8080/"
    },
    "id": "Wx7sDmc_zKe-",
    "outputId": "c96f6e54-915c-4d3e-994d-6a92cb8b85d9"
   },
   "outputs": [
    {
     "data": {
      "text/plain": [
       "8"
      ]
     },
     "execution_count": 226,
     "metadata": {},
     "output_type": "execute_result"
    }
   ],
   "source": [
    "np.argmax(pred)"
   ]
  },
  {
   "cell_type": "code",
   "execution_count": 228,
   "metadata": {
    "colab": {
     "base_uri": "https://localhost:8080/",
     "height": 522
    },
    "id": "ygz6KZvVzKik",
    "outputId": "24f0a659-d03e-455f-e4cc-2f76ece9ffe5"
   },
   "outputs": [
    {
     "data": {
      "image/png": "[encoded data removed]",
      "text/plain": [
       "<Figure size 1000x600 with 1 Axes>"
      ]
     },
     "metadata": {},
     "output_type": "display_data"
    }
   ],
   "source": [
    "plt.imshow(x_test[30].reshape(28, 28))\n",
    "plt.show()"
   ]
  },
  {
   "cell_type": "markdown",
   "metadata": {
    "id": "CErMiBKvTKVR"
   },
   "source": [
    "# End of Assignment"
   ]
  },
  {
   "cell_type": "markdown",
   "metadata": {
    "id": "AhkiYSQcTKVR"
   },
   "source": [
    "___\n",
    "\n",
    "<p style=\"text-align: center;\"><img src=\"https://docs.google.com/uc?id=1lY0Uj5R04yMY3-ZppPWxqCr5pvBLYPnV\" class=\"img-fluid\" alt=\"CLRSWY\"></p>\n",
    "\n",
    "___"
   ]
  }
 ],
 "metadata": {
  "colab": {
   "provenance": []
  },
  "kernelspec": {
   "display_name": "Python 3 (ipykernel)",
   "language": "python",
   "name": "python3"
  },
  "language_info": {
   "codemirror_mode": {
    "name": "ipython",
    "version": 3
   },
   "file_extension": ".py",
   "mimetype": "text/x-python",
   "name": "python",
   "nbconvert_exporter": "python",
   "pygments_lexer": "ipython3",
   "version": "3.9.13"
  },
  "toc": {
   "base_numbering": 1,
   "nav_menu": {},
   "number_sections": false,
   "sideBar": true,
   "skip_h1_title": false,
   "title_cell": "Table of Contents",
   "title_sidebar": "Contents",
   "toc_cell": false,
   "toc_position": {},
   "toc_section_display": true,
   "toc_window_display": true
  }
 },
 "nbformat": 4,
 "nbformat_minor": 1
}
